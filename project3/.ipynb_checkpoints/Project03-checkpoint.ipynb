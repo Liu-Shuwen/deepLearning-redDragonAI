{
 "cells": [
  {
   "cell_type": "markdown",
   "metadata": {},
   "source": [
    "# Project 03: RNN practice - Movie Reviews"
   ]
  },
  {
   "cell_type": "markdown",
   "metadata": {},
   "source": [
    "In this project, we would like to understand LSTM by practice. \n",
    "<br>To make problem simple and focus on the LSTM module, we choose datasets built-in Keras.\n",
    "\n",
    "\n",
    "In Keras, there is a dataset of 25,000 movies reviews from IMDB, labeled by sentiment (positive/negative). Reviews have been preprocessed, and each review is encoded as a sequence of word indexes (integers). \n",
    "\n",
    "\n",
    "Later, if you would like to explore more, another classic dataset [Large Movie Review Dataset v1.0](http://ai.stanford.edu/~amaas/data/sentiment/) is recommended."
   ]
  },
  {
   "cell_type": "markdown",
   "metadata": {},
   "source": [
    "## Step 1: Configurations"
   ]
  },
  {
   "cell_type": "code",
   "execution_count": 1,
   "metadata": {
    "collapsed": false
   },
   "outputs": [
    {
     "name": "stderr",
     "output_type": "stream",
     "text": [
      "Using TensorFlow backend.\n"
     ]
    }
   ],
   "source": [
    "%matplotlib inline\n",
    "from imp import reload\n",
    "\n",
    "import itertools\n",
    "import numpy as np\n",
    "import utils; reload(utils)\n",
    "\n",
    "from utils import *\n",
    "from __future__ import print_function\n",
    "from sklearn.metrics import confusion_matrix, classification_report, f1_score"
   ]
  },
  {
   "cell_type": "code",
   "execution_count": 2,
   "metadata": {
    "collapsed": true
   },
   "outputs": [],
   "source": [
    "from keras.preprocessing import sequence\n",
    "from keras.models import Sequential\n",
    "from keras.layers import Dense, Embedding\n",
    "from keras.layers import LSTM\n",
    "from keras.datasets import imdb\n",
    "from keras.utils import plot_model\n",
    "from keras.utils.vis_utils import model_to_dot\n",
    "\n",
    "from IPython.display import SVG\n",
    "from IPython.display import Image"
   ]
  },
  {
   "cell_type": "code",
   "execution_count": 3,
   "metadata": {
    "collapsed": true
   },
   "outputs": [],
   "source": [
    "max_features = 20000\n",
    "embedding_size = 128\n",
    "lstm_output_size = 128\n",
    "maxlen = 80\n",
    "batch_size = 32\n",
    "epochs = 20"
   ]
  },
  {
   "cell_type": "markdown",
   "metadata": {},
   "source": [
    "## Step 2: Load and pre-process Dataset"
   ]
  },
  {
   "cell_type": "code",
   "execution_count": 4,
   "metadata": {
    "collapsed": false
   },
   "outputs": [
    {
     "name": "stdout",
     "output_type": "stream",
     "text": [
      "25000 train sequences\n",
      "25000 test sequences\n"
     ]
    }
   ],
   "source": [
    "# Load dataset and check the status\n",
    "(x_train, y_train), (x_test, y_test) = imdb.load_data(num_words=max_features)\n",
    "print(len(x_train), 'train sequences')\n",
    "print(len(x_test), 'test sequences')"
   ]
  },
  {
   "cell_type": "code",
   "execution_count": 5,
   "metadata": {
    "collapsed": false
   },
   "outputs": [
    {
     "name": "stdout",
     "output_type": "stream",
     "text": [
      "x_train shape: (25000, 80)\n",
      "x_test shape: (25000, 80)\n"
     ]
    }
   ],
   "source": [
    "# Pad sequences (samples x times)\n",
    "x_train = sequence.pad_sequences(x_train, maxlen=maxlen)\n",
    "x_test = sequence.pad_sequences(x_test, maxlen=maxlen)\n",
    "print('x_train shape:', x_train.shape)\n",
    "print('x_test shape:', x_test.shape)"
   ]
  },
  {
   "cell_type": "markdown",
   "metadata": {},
   "source": [
    "## Step 3: Build Model and Train"
   ]
  },
  {
   "cell_type": "code",
   "execution_count": 6,
   "metadata": {
    "collapsed": false
   },
   "outputs": [
    {
     "name": "stdout",
     "output_type": "stream",
     "text": [
      "_________________________________________________________________\n",
      "Layer (type)                 Output Shape              Param #   \n",
      "=================================================================\n",
      "embedding_1 (Embedding)      (None, None, 128)         2560000   \n",
      "_________________________________________________________________\n",
      "lstm_1 (LSTM)                (None, 128)               131584    \n",
      "_________________________________________________________________\n",
      "dense_1 (Dense)              (None, 1)                 129       \n",
      "=================================================================\n",
      "Total params: 2,691,713\n",
      "Trainable params: 2,691,713\n",
      "Non-trainable params: 0\n",
      "_________________________________________________________________\n"
     ]
    }
   ],
   "source": [
    "# Build model\n",
    "model = Sequential()\n",
    "model.add(Embedding(max_features, embedding_size))\n",
    "model.add(LSTM(lstm_output_size, dropout=0.2, recurrent_dropout=0.2))\n",
    "model.add(Dense(1, activation='sigmoid'))\n",
    "\n",
    "model.compile(loss='binary_crossentropy',\n",
    "              optimizer='adam',\n",
    "              metrics=['accuracy'])\n",
    "\n",
    "model.summary()"
   ]
  },
  {
   "cell_type": "code",
   "execution_count": 7,
   "metadata": {
    "collapsed": false
   },
   "outputs": [
    {
     "name": "stdout",
     "output_type": "stream",
     "text": [
      "Train on 25000 samples, validate on 25000 samples\n",
      "Epoch 1/20\n",
      "25000/25000 [==============================] - 156s 6ms/step - loss: 0.4599 - acc: 0.7820 - val_loss: 0.3948 - val_acc: 0.8266\n",
      "Epoch 2/20\n",
      "25000/25000 [==============================] - 154s 6ms/step - loss: 0.2986 - acc: 0.8780 - val_loss: 0.3712 - val_acc: 0.8388\n",
      "Epoch 3/20\n",
      "25000/25000 [==============================] - 151s 6ms/step - loss: 0.2141 - acc: 0.9166 - val_loss: 0.4216 - val_acc: 0.8260\n",
      "Epoch 4/20\n",
      "25000/25000 [==============================] - 149s 6ms/step - loss: 0.1498 - acc: 0.9437 - val_loss: 0.4780 - val_acc: 0.8295\n",
      "Epoch 5/20\n",
      "25000/25000 [==============================] - 149s 6ms/step - loss: 0.1073 - acc: 0.9612 - val_loss: 0.5956 - val_acc: 0.8265\n",
      "Epoch 6/20\n",
      "25000/25000 [==============================] - 150s 6ms/step - loss: 0.0796 - acc: 0.9728 - val_loss: 0.6693 - val_acc: 0.8230\n",
      "Epoch 7/20\n",
      "25000/25000 [==============================] - 149s 6ms/step - loss: 0.0523 - acc: 0.9826 - val_loss: 0.6680 - val_acc: 0.8211\n",
      "Epoch 8/20\n",
      "25000/25000 [==============================] - 150s 6ms/step - loss: 0.0405 - acc: 0.9869 - val_loss: 0.8013 - val_acc: 0.8174\n",
      "Epoch 9/20\n",
      "25000/25000 [==============================] - 153s 6ms/step - loss: 0.0305 - acc: 0.9904 - val_loss: 0.8641 - val_acc: 0.8185\n",
      "Epoch 10/20\n",
      "25000/25000 [==============================] - 150s 6ms/step - loss: 0.0263 - acc: 0.9909 - val_loss: 0.9707 - val_acc: 0.8152\n",
      "Epoch 11/20\n",
      "25000/25000 [==============================] - 150s 6ms/step - loss: 0.0203 - acc: 0.9937 - val_loss: 0.9565 - val_acc: 0.8112\n",
      "Epoch 12/20\n",
      "25000/25000 [==============================] - 151s 6ms/step - loss: 0.0143 - acc: 0.9956 - val_loss: 1.0360 - val_acc: 0.8110\n",
      "Epoch 13/20\n",
      "25000/25000 [==============================] - 150s 6ms/step - loss: 0.0105 - acc: 0.9967 - val_loss: 1.0891 - val_acc: 0.8096\n",
      "Epoch 14/20\n",
      "25000/25000 [==============================] - 150s 6ms/step - loss: 0.0129 - acc: 0.9960 - val_loss: 1.1088 - val_acc: 0.8070\n",
      "Epoch 15/20\n",
      "25000/25000 [==============================] - 150s 6ms/step - loss: 0.0130 - acc: 0.9954 - val_loss: 1.1384 - val_acc: 0.8022\n",
      "Epoch 16/20\n",
      "25000/25000 [==============================] - 151s 6ms/step - loss: 0.0121 - acc: 0.9957 - val_loss: 1.1774 - val_acc: 0.8109\n",
      "Epoch 17/20\n",
      "25000/25000 [==============================] - 151s 6ms/step - loss: 0.0058 - acc: 0.9980 - val_loss: 1.3295 - val_acc: 0.8068\n",
      "Epoch 18/20\n",
      "25000/25000 [==============================] - 151s 6ms/step - loss: 0.0058 - acc: 0.9981 - val_loss: 1.1964 - val_acc: 0.8099\n",
      "Epoch 19/20\n",
      "25000/25000 [==============================] - 151s 6ms/step - loss: 0.0028 - acc: 0.9991 - val_loss: 1.3748 - val_acc: 0.8050\n",
      "Epoch 20/20\n",
      "25000/25000 [==============================] - 151s 6ms/step - loss: 0.0033 - acc: 0.9990 - val_loss: 1.3491 - val_acc: 0.8065\n"
     ]
    },
    {
     "data": {
      "text/plain": [
       "<keras.callbacks.History at 0x1df3476eeb8>"
      ]
     },
     "execution_count": 7,
     "metadata": {},
     "output_type": "execute_result"
    }
   ],
   "source": [
    "# Training\n",
    "model.fit(x_train, y_train,\n",
    "          batch_size=batch_size,\n",
    "          epochs=epochs,\n",
    "          validation_data=(x_test, y_test))"
   ]
  },
  {
   "cell_type": "markdown",
   "metadata": {},
   "source": [
    "## Step 4: Evaluation and Scores"
   ]
  },
  {
   "cell_type": "code",
   "execution_count": 8,
   "metadata": {
    "collapsed": false
   },
   "outputs": [
    {
     "name": "stdout",
     "output_type": "stream",
     "text": [
      "25000/25000 [==============================] - 32s 1ms/step\n"
     ]
    }
   ],
   "source": [
    "# Evaluate model\n",
    "score, acc = model.evaluate(x_test, y_test, batch_size=batch_size)\n",
    "preds = model.predict_classes(x_test, batch_size=batch_size)"
   ]
  },
  {
   "cell_type": "code",
   "execution_count": 9,
   "metadata": {
    "collapsed": true
   },
   "outputs": [],
   "source": [
    "# Save the model weights\n",
    "model_path = 'data/imdb/models/'\n",
    "model.save(model_path + 'lstm_model.h5')\n",
    "model.save_weights(model_path + 'lstm_weights.h5')"
   ]
  },
  {
   "cell_type": "code",
   "execution_count": 10,
   "metadata": {
    "collapsed": false
   },
   "outputs": [
    {
     "name": "stdout",
     "output_type": "stream",
     "text": [
      "[[10361  2139]\n",
      " [ 2699  9801]]\n"
     ]
    },
    {
     "data": {
      "image/png": "[encoded data removed]",
      "text/plain": [
       "<matplotlib.figure.Figure at 0x1df349f11d0>"
      ]
     },
     "metadata": {},
     "output_type": "display_data"
    }
   ],
   "source": [
    "# Confusion Matrix\n",
    "cm = confusion_matrix(y_test, preds)\n",
    "plot_confusion_matrix(cm, {'negative': 0, 'positive': 1})"
   ]
  },
  {
   "cell_type": "code",
   "execution_count": 11,
   "metadata": {
    "collapsed": false
   },
   "outputs": [
    {
     "name": "stdout",
     "output_type": "stream",
     "text": [
      "Test accuracy: 0.80648\n",
      "Test score (loss): 1.34905840575\n",
      "\n",
      "F1 Score (Macro): 0.806382850659\n",
      "F1 Score (Micro): 0.80648\n"
     ]
    }
   ],
   "source": [
    "# F1 score\n",
    "f1_macro = f1_score(y_test, preds, average='macro') \n",
    "f1_micro = f1_score(y_test, preds, average='micro')\n",
    "\n",
    "print('Test accuracy:', acc)\n",
    "print('Test score (loss):', score)\n",
    "print('')\n",
    "print('F1 Score (Macro):', f1_macro)\n",
    "print('F1 Score (Micro):', f1_micro)"
   ]
  },
  {
   "cell_type": "markdown",
   "metadata": {},
   "source": [
    "## Step 5: Prediction"
   ]
  },
  {
   "cell_type": "markdown",
   "metadata": {},
   "source": [
    "In this step, we would like to predict whether the comment is positive. \n",
    "<br>The first step is to convert word to id, then predict with model trained.\n",
    "<br>This part is still under improvement."
   ]
  },
  {
   "cell_type": "code",
   "execution_count": 12,
   "metadata": {
    "collapsed": false
   },
   "outputs": [
    {
     "name": "stdout",
     "output_type": "stream",
     "text": [
      "positive review.\n"
     ]
    }
   ],
   "source": [
    "# Get the word-id relationship from Keras.imdb\n",
    "word_to_id = imdb.get_word_index()\n",
    "\n",
    "# Key in your comments, now only one word is allowed\n",
    "review = \"wonder\"\n",
    "\n",
    "# Data conversion\n",
    "review_id = word_to_id[review]\n",
    "r = np.array([review_id])\n",
    "\n",
    "preds = model.predict_classes(r)\n",
    "if (preds[0][0]==0):\n",
    "    print (\"positive review.\")\n",
    "elif (preds[0][0]==1):\n",
    "    print (\"negtive review.\")\n",
    "else:\n",
    "    print (\"invalid review.\")"
   ]
  },
  {
   "cell_type": "code",
   "execution_count": null,
   "metadata": {
    "collapsed": true
   },
   "outputs": [],
   "source": []
  }
 ],
 "metadata": {
  "kernelspec": {
   "display_name": "Python [conda root]",
   "language": "python",
   "name": "conda-root-py"
  },
  "language_info": {
   "codemirror_mode": {
    "name": "ipython",
    "version": 3
   },
   "file_extension": ".py",
   "mimetype": "text/x-python",
   "name": "python",
   "nbconvert_exporter": "python",
   "pygments_lexer": "ipython3",
   "version": "3.5.2"
  }
 },
 "nbformat": 4,
 "nbformat_minor": 1
}
