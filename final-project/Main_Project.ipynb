{
 "cells": [
  {
   "cell_type": "markdown",
   "metadata": {},
   "source": [
    "# Implement Mask-RCNN to inspect defects in industrial products"
   ]
  },
  {
   "cell_type": "markdown",
   "metadata": {},
   "source": [
    "Backgroud: \n",
    "<br>Mask-RCNN model generates bounding boxes and segmentation masks for each instance of an object in the image. This is helpful to visulize industrial defects that are not easy to implement with traditional computer vision methods.\n",
    "<br>There are two parts in this project:\n",
    "<br>1. Implement Mask-RCNN on Shapes Datasets.\n",
    "<br>2. Apply the model to inspect defects in industrial products\n",
    "<br><br> To keep things simple, we generate a synthetic dataset of shapes(squares, triangles and circles). Our own dataset is based on [Weakly Supervised Learning for Industrial Optical Inspection](https://hci.iwr.uni-heidelberg.de/node/3616/download/eddb774b1322f3e9b8aca5f0aed48db0) "
   ]
  },
  {
   "cell_type": "markdown",
   "metadata": {},
   "source": [
    "## Part 1: Implement Mask-RCNN on Shapes Dataset"
   ]
  },
  {
   "cell_type": "code",
   "execution_count": 1,
   "metadata": {},
   "outputs": [
    {
     "name": "stderr",
     "output_type": "stream",
     "text": [
      "Using TensorFlow backend.\n"
     ]
    }
   ],
   "source": [
    "import os\n",
    "import sys\n",
    "import random\n",
    "import math\n",
    "import re\n",
    "import time\n",
    "import numpy as np\n",
    "import cv2\n",
    "import matplotlib\n",
    "import matplotlib.pyplot as plt\n",
    "\n",
    "from config import Config\n",
    "import utils\n",
    "import model as modellib\n",
    "import visualize\n",
    "from model import log\n",
    "\n",
    "%matplotlib inline \n",
    "\n",
    "# Root directory of the project\n",
    "ROOT_DIR = os.getcwd()\n",
    "\n",
    "# Directory to save logs and trained model\n",
    "MODEL_DIR = os.path.join(ROOT_DIR, \"logs\")\n",
    "\n",
    "# Path to COCO trained weights\n",
    "COCO_MODEL_PATH = os.path.join(ROOT_DIR, \"mask_rcnn_coco.h5\")"
   ]
  },
  {
   "cell_type": "markdown",
   "metadata": {},
   "source": [
    "### Step 1: Configurations"
   ]
  },
  {
   "cell_type": "code",
   "execution_count": 2,
   "metadata": {},
   "outputs": [
    {
     "name": "stdout",
     "output_type": "stream",
     "text": [
      "\n",
      "Configurations:\n",
      "BACKBONE_SHAPES                [[32 32]\n",
      " [16 16]\n",
      " [ 8  8]\n",
      " [ 4  4]\n",
      " [ 2  2]]\n",
      "BACKBONE_STRIDES               [4, 8, 16, 32, 64]\n",
      "BATCH_SIZE                     8\n",
      "BBOX_STD_DEV                   [ 0.1  0.1  0.2  0.2]\n",
      "DETECTION_MAX_INSTANCES        100\n",
      "DETECTION_MIN_CONFIDENCE       0.7\n",
      "DETECTION_NMS_THRESHOLD        0.3\n",
      "GPU_COUNT                      1\n",
      "IMAGES_PER_GPU                 8\n",
      "IMAGE_MAX_DIM                  128\n",
      "IMAGE_MIN_DIM                  128\n",
      "IMAGE_PADDING                  True\n",
      "IMAGE_SHAPE                    [128 128   3]\n",
      "LEARNING_MOMENTUM              0.9\n",
      "LEARNING_RATE                  0.001\n",
      "MASK_POOL_SIZE                 14\n",
      "MASK_SHAPE                     [28, 28]\n",
      "MAX_GT_INSTANCES               100\n",
      "MEAN_PIXEL                     [ 123.7  116.8  103.9]\n",
      "MINI_MASK_SHAPE                (56, 56)\n",
      "NAME                           shapes\n",
      "NUM_CLASSES                    4\n",
      "POOL_SIZE                      7\n",
      "POST_NMS_ROIS_INFERENCE        1000\n",
      "POST_NMS_ROIS_TRAINING         2000\n",
      "ROI_POSITIVE_RATIO             0.33\n",
      "RPN_ANCHOR_RATIOS              [0.5, 1, 2]\n",
      "RPN_ANCHOR_SCALES              (8, 16, 32, 64, 128)\n",
      "RPN_ANCHOR_STRIDE              1\n",
      "RPN_BBOX_STD_DEV               [ 0.1  0.1  0.2  0.2]\n",
      "RPN_NMS_THRESHOLD              0.7\n",
      "RPN_TRAIN_ANCHORS_PER_IMAGE    256\n",
      "STEPS_PER_EPOCH                100\n",
      "TRAIN_ROIS_PER_IMAGE           32\n",
      "USE_MINI_MASK                  True\n",
      "USE_RPN_ROIS                   True\n",
      "VALIDATION_STEPS               5\n",
      "WEIGHT_DECAY                   0.0001\n",
      "\n",
      "\n"
     ]
    }
   ],
   "source": [
    "class ShapesConfig(Config):\n",
    "    \"\"\"Configuration for training on the toy shapes dataset.\n",
    "    Derives from the base Config class and overrides values specific\n",
    "    to the toy shapes dataset.\n",
    "    \"\"\"\n",
    "    # Give the configuration a recognizable name\n",
    "    NAME = \"shapes\"\n",
    "\n",
    "    # Train on 1 GPU and 8 images per GPU. We can put multiple images on each\n",
    "    # GPU because the images are small. Batch size is 8 (GPUs * images/GPU).\n",
    "    GPU_COUNT = 1\n",
    "    IMAGES_PER_GPU = 8\n",
    "\n",
    "    # Number of classes (including background)\n",
    "    NUM_CLASSES = 1 + 3  # background + 3 shapes\n",
    "\n",
    "    # Use small images for faster training. Set the limits of the small side\n",
    "    # the large side, and that determines the image shape.\n",
    "    IMAGE_MIN_DIM = 128\n",
    "    IMAGE_MAX_DIM = 128\n",
    "\n",
    "    # Use smaller anchors because our image and objects are small\n",
    "    RPN_ANCHOR_SCALES = (8, 16, 32, 64, 128)  # anchor side in pixels\n",
    "\n",
    "    # Reduce training ROIs per image because the images are small and have\n",
    "    # few objects. Aim to allow ROI sampling to pick 33% positive ROIs.\n",
    "    TRAIN_ROIS_PER_IMAGE = 32\n",
    "\n",
    "    # Use a small epoch since the data is simple\n",
    "    STEPS_PER_EPOCH = 100\n",
    "\n",
    "    # use small validation steps since the epoch is small\n",
    "    VALIDATION_STEPS = 5\n",
    "    \n",
    "config = ShapesConfig()\n",
    "config.display()"
   ]
  },
  {
   "cell_type": "code",
   "execution_count": 3,
   "metadata": {},
   "outputs": [],
   "source": [
    "# Notebook Preferences\n",
    "def get_ax(rows=1, cols=1, size=8):\n",
    "    \"\"\"Return a Matplotlib Axes array to be used in\n",
    "    all visualizations in the notebook. Provide a\n",
    "    central point to control graph sizes.\n",
    "    \n",
    "    Change the default size attribute to control the size\n",
    "    of rendered images\n",
    "    \"\"\"\n",
    "    _, ax = plt.subplots(rows, cols, figsize=(size*cols, size*rows))\n",
    "    return ax"
   ]
  },
  {
   "cell_type": "markdown",
   "metadata": {},
   "source": [
    "### Step 2: Dataset\n",
    "\n",
    "Create a synthetic dataset\n",
    "\n",
    "Extend the Dataset class and add a method to load the shapes dataset, `load_shapes()`, and override the following methods:\n",
    "\n",
    "* load_image()\n",
    "* load_mask()\n",
    "* image_reference()"
   ]
  },
  {
   "cell_type": "code",
   "execution_count": 4,
   "metadata": {
    "collapsed": true
   },
   "outputs": [],
   "source": [
    "class ShapesDataset(utils.Dataset):\n",
    "    \"\"\"Generates the shapes synthetic dataset. The dataset consists of simple\n",
    "    shapes (triangles, squares, circles) placed randomly on a blank surface.\n",
    "    The images are generated on the fly. No file access required.\n",
    "    \"\"\"\n",
    "\n",
    "    def load_shapes(self, count, height, width):\n",
    "        \"\"\"Generate the requested number of synthetic images.\n",
    "        count: number of images to generate.\n",
    "        height, width: the size of the generated images.\n",
    "        \"\"\"\n",
    "        # Add classes\n",
    "        self.add_class(\"shapes\", 1, \"square\")\n",
    "        self.add_class(\"shapes\", 2, \"circle\")\n",
    "        self.add_class(\"shapes\", 3, \"triangle\")\n",
    "\n",
    "        # Add images\n",
    "        # Generate random specifications of images (i.e. color and\n",
    "        # list of shapes sizes and locations). This is more compact than\n",
    "        # actual images. Images are generated on the fly in load_image().\n",
    "        for i in range(count):\n",
    "            bg_color, shapes = self.random_image(height, width)\n",
    "            self.add_image(\"shapes\", image_id=i, path=None,\n",
    "                           width=width, height=height,\n",
    "                           bg_color=bg_color, shapes=shapes)\n",
    "\n",
    "    def load_image(self, image_id):\n",
    "        \"\"\"Generate an image from the specs of the given image ID.\n",
    "        Typically this function loads the image from a file, but\n",
    "        in this case it generates the image on the fly from the\n",
    "        specs in image_info.\n",
    "        \"\"\"\n",
    "        info = self.image_info[image_id]\n",
    "        bg_color = np.array(info['bg_color']).reshape([1, 1, 3])\n",
    "        image = np.ones([info['height'], info['width'], 3], dtype=np.uint8)\n",
    "        image = image * bg_color.astype(np.uint8)\n",
    "        for shape, color, dims in info['shapes']:\n",
    "            image = self.draw_shape(image, shape, dims, color)\n",
    "        return image\n",
    "\n",
    "    def image_reference(self, image_id):\n",
    "        \"\"\"Return the shapes data of the image.\"\"\"\n",
    "        info = self.image_info[image_id]\n",
    "        if info[\"source\"] == \"shapes\":\n",
    "            return info[\"shapes\"]\n",
    "        else:\n",
    "            super(self.__class__).image_reference(self, image_id)\n",
    "\n",
    "    def load_mask(self, image_id):\n",
    "        \"\"\"Generate instance masks for shapes of the given image ID.\n",
    "        \"\"\"\n",
    "        info = self.image_info[image_id]\n",
    "        shapes = info['shapes']\n",
    "        count = len(shapes)\n",
    "        mask = np.zeros([info['height'], info['width'], count], dtype=np.uint8)\n",
    "        for i, (shape, _, dims) in enumerate(info['shapes']):\n",
    "            mask[:, :, i:i+1] = self.draw_shape(mask[:, :, i:i+1].copy(),\n",
    "                                                shape, dims, 1)\n",
    "        # Handle occlusions\n",
    "        occlusion = np.logical_not(mask[:, :, -1]).astype(np.uint8)\n",
    "        for i in range(count-2, -1, -1):\n",
    "            mask[:, :, i] = mask[:, :, i] * occlusion\n",
    "            occlusion = np.logical_and(occlusion, np.logical_not(mask[:, :, i]))\n",
    "        # Map class names to class IDs.\n",
    "        class_ids = np.array([self.class_names.index(s[0]) for s in shapes])\n",
    "        return mask, class_ids.astype(np.int32)\n",
    "\n",
    "    def draw_shape(self, image, shape, dims, color):\n",
    "        \"\"\"Draws a shape from the given specs.\"\"\"\n",
    "        # Get the center x, y and the size s\n",
    "        x, y, s = dims\n",
    "        if shape == 'square':\n",
    "            image = cv2.rectangle(image, (x-s, y-s), (x+s, y+s), color, -1)\n",
    "        elif shape == \"circle\":\n",
    "            image = cv2.circle(image, (x, y), s, color, -1)\n",
    "        elif shape == \"triangle\":\n",
    "            points = np.array([[(x, y-s),\n",
    "                                (x-s/math.sin(math.radians(60)), y+s),\n",
    "                                (x+s/math.sin(math.radians(60)), y+s),\n",
    "                                ]], dtype=np.int32)\n",
    "            image = cv2.fillPoly(image, points, color)\n",
    "        return image\n",
    "\n",
    "    def random_shape(self, height, width):\n",
    "        \"\"\"Generates specifications of a random shape that lies within\n",
    "        the given height and width boundaries.\n",
    "        Returns a tuple of three valus:\n",
    "        * The shape name (square, circle, ...)\n",
    "        * Shape color: a tuple of 3 values, RGB.\n",
    "        * Shape dimensions: A tuple of values that define the shape size\n",
    "                            and location. Differs per shape type.\n",
    "        \"\"\"\n",
    "        # Shape\n",
    "        shape = random.choice([\"square\", \"circle\", \"triangle\"])\n",
    "        # Color\n",
    "        color = tuple([random.randint(0, 255) for _ in range(3)])\n",
    "        # Center x, y\n",
    "        buffer = 20\n",
    "        y = random.randint(buffer, height - buffer - 1)\n",
    "        x = random.randint(buffer, width - buffer - 1)\n",
    "        # Size\n",
    "        s = random.randint(buffer, height//4)\n",
    "        return shape, color, (x, y, s)\n",
    "\n",
    "    def random_image(self, height, width):\n",
    "        \"\"\"Creates random specifications of an image with multiple shapes.\n",
    "        Returns the background color of the image and a list of shape\n",
    "        specifications that can be used to draw the image.\n",
    "        \"\"\"\n",
    "        # Pick random background color\n",
    "        bg_color = np.array([random.randint(0, 255) for _ in range(3)])\n",
    "        # Generate a few random shapes and record their\n",
    "        # bounding boxes\n",
    "        shapes = []\n",
    "        boxes = []\n",
    "        N = random.randint(1, 4)\n",
    "        for _ in range(N):\n",
    "            shape, color, dims = self.random_shape(height, width)\n",
    "            shapes.append((shape, color, dims))\n",
    "            x, y, s = dims\n",
    "            boxes.append([y-s, x-s, y+s, x+s])\n",
    "        # Apply non-max suppression wit 0.3 threshold to avoid\n",
    "        # shapes covering each other\n",
    "        keep_ixs = utils.non_max_suppression(np.array(boxes), np.arange(N), 0.3)\n",
    "        shapes = [s for i, s in enumerate(shapes) if i in keep_ixs]\n",
    "        return bg_color, shapes"
   ]
  },
  {
   "cell_type": "code",
   "execution_count": 5,
   "metadata": {
    "collapsed": true
   },
   "outputs": [],
   "source": [
    "# Training dataset\n",
    "dataset_train = ShapesDataset()\n",
    "dataset_train.load_shapes(9000, config.IMAGE_SHAPE[0], config.IMAGE_SHAPE[1])\n",
    "dataset_train.prepare()\n",
    "\n",
    "# Validation dataset\n",
    "dataset_val = ShapesDataset()\n",
    "dataset_val.load_shapes(1000, config.IMAGE_SHAPE[0], config.IMAGE_SHAPE[1])\n",
    "dataset_val.prepare()"
   ]
  },
  {
   "cell_type": "code",
   "execution_count": 6,
   "metadata": {},
   "outputs": [
    {
     "data": {
      "image/png": "[encoded data removed]",
      "text/plain": [
       "<matplotlib.figure.Figure at 0x14dd3e8a128>"
      ]
     },
     "metadata": {},
     "output_type": "display_data"
    },
    {
     "data": {
      "image/png": "[encoded data removed]",
      "text/plain": [
       "<matplotlib.figure.Figure at 0x14ddaa47d30>"
      ]
     },
     "metadata": {},
     "output_type": "display_data"
    },
    {
     "data": {
      "image/png": "[encoded data removed]",
      "text/plain": [
       "<matplotlib.figure.Figure at 0x14ddae57b38>"
      ]
     },
     "metadata": {},
     "output_type": "display_data"
    },
    {
     "data": {
      "image/png": "[encoded data removed]",
      "text/plain": [
       "<matplotlib.figure.Figure at 0x14ddaacdda0>"
      ]
     },
     "metadata": {},
     "output_type": "display_data"
    },
    {
     "data": {
      "image/png": "[encoded data removed]",
      "text/plain": [
       "<matplotlib.figure.Figure at 0x14ddabd48d0>"
      ]
     },
     "metadata": {},
     "output_type": "display_data"
    },
    {
     "data": {
      "image/png": "[encoded data removed]",
      "text/plain": [
       "<matplotlib.figure.Figure at 0x14ddb26bf28>"
      ]
     },
     "metadata": {},
     "output_type": "display_data"
    }
   ],
   "source": [
    "# Load and display random samples\n",
    "image_ids = np.random.choice(dataset_train.image_ids, 6)\n",
    "for image_id in image_ids:\n",
    "    image = dataset_train.load_image(image_id)\n",
    "    mask, class_ids = dataset_train.load_mask(image_id)\n",
    "    visualize.display_top_masks(image, mask, class_ids, dataset_train.class_names)"
   ]
  },
  {
   "cell_type": "markdown",
   "metadata": {},
   "source": [
    "### Step 3: Create Model"
   ]
  },
  {
   "cell_type": "code",
   "execution_count": 7,
   "metadata": {
    "collapsed": true
   },
   "outputs": [],
   "source": [
    "# Create model in training mode\n",
    "model = modellib.MaskRCNN(mode=\"training\", config=config,\n",
    "                          model_dir=MODEL_DIR)"
   ]
  },
  {
   "cell_type": "code",
   "execution_count": 8,
   "metadata": {
    "collapsed": true
   },
   "outputs": [],
   "source": [
    "# Which weights to start with?\n",
    "init_with = \"coco\"  # imagenet, coco, or last\n",
    "\n",
    "if init_with == \"imagenet\":\n",
    "    model.load_weights(model.get_imagenet_weights(), by_name=True)\n",
    "elif init_with == \"coco\":\n",
    "    # Load weights trained on MS COCO, but skip layers that\n",
    "    # are different due to the different number of classes\n",
    "    # See README for instructions to download the COCO weights\n",
    "    model.load_weights(COCO_MODEL_PATH, by_name=True,\n",
    "                       exclude=[\"mrcnn_class_logits\", \"mrcnn_bbox_fc\", \n",
    "                                \"mrcnn_bbox\", \"mrcnn_mask\"])\n",
    "elif init_with == \"last\":\n",
    "    # Load the last model you trained and continue training\n",
    "    model.load_weights(model.find_last()[1], by_name=True)"
   ]
  },
  {
   "cell_type": "markdown",
   "metadata": {},
   "source": [
    "### Step 4: Training\n",
    "\n",
    "Train in two stages:\n",
    "1. Only the heads. Here we're freezing all the backbone layers and training only the randomly initialized layers (i.e. the ones that we didn't use pre-trained weights from MS COCO). To train only the head layers, pass `layers='heads'` to the `train()` function.\n",
    "\n",
    "2. Fine-tune all layers. For this simple example it's not necessary, but we're including it to show the process. Simply pass `layers=\"all` to train all layers."
   ]
  },
  {
   "cell_type": "code",
   "execution_count": 9,
   "metadata": {},
   "outputs": [
    {
     "name": "stdout",
     "output_type": "stream",
     "text": [
      "\n",
      "Starting at epoch 0. LR=0.001\n",
      "\n",
      "Checkpoint Path: D:\\workspace\\shuwen\\DL_dev\\Mask_RCNN\\logs\\shapes20171129T1523\\mask_rcnn_shapes_{epoch:04d}.h5\n",
      "Selecting layers to train\n",
      "fpn_c5p5               (Conv2D)\n",
      "fpn_c4p4               (Conv2D)\n",
      "fpn_c3p3               (Conv2D)\n",
      "fpn_c2p2               (Conv2D)\n",
      "fpn_p5                 (Conv2D)\n",
      "fpn_p2                 (Conv2D)\n",
      "fpn_p3                 (Conv2D)\n",
      "fpn_p4                 (Conv2D)\n",
      "In model:  rpn_model\n",
      "    rpn_conv_shared        (Conv2D)\n",
      "    rpn_class_raw          (Conv2D)\n",
      "    rpn_bbox_pred          (Conv2D)\n",
      "mrcnn_mask_conv1       (TimeDistributed)\n",
      "mrcnn_mask_bn1         (TimeDistributed)\n",
      "mrcnn_mask_conv2       (TimeDistributed)\n",
      "mrcnn_mask_bn2         (TimeDistributed)\n",
      "mrcnn_class_conv1      (TimeDistributed)\n",
      "mrcnn_class_bn1        (TimeDistributed)\n",
      "mrcnn_mask_conv3       (TimeDistributed)\n",
      "mrcnn_mask_bn3         (TimeDistributed)\n",
      "mrcnn_class_conv2      (TimeDistributed)\n",
      "mrcnn_class_bn2        (TimeDistributed)\n",
      "mrcnn_mask_conv4       (TimeDistributed)\n",
      "mrcnn_mask_bn4         (TimeDistributed)\n"
     ]
    },
    {
     "name": "stderr",
     "output_type": "stream",
     "text": [
      "D:\\Anaconda3\\lib\\site-packages\\tensorflow\\python\\ops\\gradients_impl.py:95: UserWarning: Converting sparse IndexedSlices to a dense Tensor of unknown shape. This may consume a large amount of memory.\n",
      "  \"Converting sparse IndexedSlices to a dense Tensor of unknown shape. \"\n"
     ]
    },
    {
     "name": "stdout",
     "output_type": "stream",
     "text": [
      "mrcnn_bbox_fc          (TimeDistributed)\n",
      "mrcnn_mask_deconv      (TimeDistributed)\n",
      "mrcnn_class_logits     (TimeDistributed)\n",
      "mrcnn_mask             (TimeDistributed)\n",
      "Epoch 1/10\n",
      "100/100 [==============================] - 59s 593ms/step - loss: 1.8542 - rpn_class_loss: 0.0303 - rpn_bbox_loss: 0.6092 - mrcnn_class_loss: 0.4160 - mrcnn_bbox_loss: 0.3780 - mrcnn_mask_loss: 0.4206 - val_loss: 0.9959 - val_rpn_class_loss: 0.0221 - val_rpn_bbox_loss: 0.3469 - val_mrcnn_class_loss: 0.1070 - val_mrcnn_bbox_loss: 0.1593 - val_mrcnn_mask_loss: 0.3606\n",
      "Epoch 2/10\n",
      "100/100 [==============================] - 77s 773ms/step - loss: 0.9383 - rpn_class_loss: 0.0156 - rpn_bbox_loss: 0.4106 - mrcnn_class_loss: 0.1188 - mrcnn_bbox_loss: 0.1550 - mrcnn_mask_loss: 0.2384 - val_loss: 0.8768 - val_rpn_class_loss: 0.0169 - val_rpn_bbox_loss: 0.3413 - val_mrcnn_class_loss: 0.1356 - val_mrcnn_bbox_loss: 0.1127 - val_mrcnn_mask_loss: 0.2703\n",
      "Epoch 3/10\n",
      "100/100 [==============================] - 36s 364ms/step - loss: 0.9020 - rpn_class_loss: 0.0135 - rpn_bbox_loss: 0.4101 - mrcnn_class_loss: 0.1454 - mrcnn_bbox_loss: 0.1182 - mrcnn_mask_loss: 0.2148 - val_loss: 0.8728 - val_rpn_class_loss: 0.0145 - val_rpn_bbox_loss: 0.3404 - val_mrcnn_class_loss: 0.1491 - val_mrcnn_bbox_loss: 0.0956 - val_mrcnn_mask_loss: 0.2733\n",
      "Epoch 4/10\n",
      "100/100 [==============================] - 30s 297ms/step - loss: 0.8666 - rpn_class_loss: 0.0127 - rpn_bbox_loss: 0.4099 - mrcnn_class_loss: 0.1344 - mrcnn_bbox_loss: 0.1064 - mrcnn_mask_loss: 0.2032 - val_loss: 0.7808 - val_rpn_class_loss: 0.0142 - val_rpn_bbox_loss: 0.3434 - val_mrcnn_class_loss: 0.1134 - val_mrcnn_bbox_loss: 0.0919 - val_mrcnn_mask_loss: 0.2180\n",
      "Epoch 5/10\n",
      "100/100 [==============================] - 30s 296ms/step - loss: 0.8366 - rpn_class_loss: 0.0117 - rpn_bbox_loss: 0.4074 - mrcnn_class_loss: 0.1219 - mrcnn_bbox_loss: 0.0967 - mrcnn_mask_loss: 0.1989 - val_loss: 0.7626 - val_rpn_class_loss: 0.0130 - val_rpn_bbox_loss: 0.3337 - val_mrcnn_class_loss: 0.1306 - val_mrcnn_bbox_loss: 0.1073 - val_mrcnn_mask_loss: 0.1781\n",
      "Epoch 6/10\n",
      "100/100 [==============================] - 29s 286ms/step - loss: 0.8056 - rpn_class_loss: 0.0115 - rpn_bbox_loss: 0.3973 - mrcnn_class_loss: 0.1203 - mrcnn_bbox_loss: 0.0882 - mrcnn_mask_loss: 0.1883 - val_loss: 0.7923 - val_rpn_class_loss: 0.0123 - val_rpn_bbox_loss: 0.3106 - val_mrcnn_class_loss: 0.0992 - val_mrcnn_bbox_loss: 0.0751 - val_mrcnn_mask_loss: 0.2951\n",
      "Epoch 7/10\n",
      "100/100 [==============================] - 27s 275ms/step - loss: 0.7592 - rpn_class_loss: 0.0112 - rpn_bbox_loss: 0.3803 - mrcnn_class_loss: 0.1166 - mrcnn_bbox_loss: 0.0787 - mrcnn_mask_loss: 0.1723 - val_loss: 0.8046 - val_rpn_class_loss: 0.0119 - val_rpn_bbox_loss: 0.3120 - val_mrcnn_class_loss: 0.1514 - val_mrcnn_bbox_loss: 0.0957 - val_mrcnn_mask_loss: 0.2335\n",
      "Epoch 8/10\n",
      "100/100 [==============================] - 27s 275ms/step - loss: 0.7758 - rpn_class_loss: 0.0111 - rpn_bbox_loss: 0.3882 - mrcnn_class_loss: 0.1233 - mrcnn_bbox_loss: 0.0781 - mrcnn_mask_loss: 0.1752 - val_loss: 0.8386 - val_rpn_class_loss: 0.0108 - val_rpn_bbox_loss: 0.3281 - val_mrcnn_class_loss: 0.1220 - val_mrcnn_bbox_loss: 0.0874 - val_mrcnn_mask_loss: 0.2902\n",
      "Epoch 9/10\n",
      "100/100 [==============================] - 28s 276ms/step - loss: 0.7103 - rpn_class_loss: 0.0109 - rpn_bbox_loss: 0.3704 - mrcnn_class_loss: 0.1093 - mrcnn_bbox_loss: 0.0706 - mrcnn_mask_loss: 0.1491 - val_loss: 0.7309 - val_rpn_class_loss: 0.0104 - val_rpn_bbox_loss: 0.3016 - val_mrcnn_class_loss: 0.1261 - val_mrcnn_bbox_loss: 0.0894 - val_mrcnn_mask_loss: 0.2034\n",
      "Epoch 10/10\n",
      "100/100 [==============================] - 27s 275ms/step - loss: 0.7174 - rpn_class_loss: 0.0099 - rpn_bbox_loss: 0.3659 - mrcnn_class_loss: 0.1078 - mrcnn_bbox_loss: 0.0668 - mrcnn_mask_loss: 0.1670 - val_loss: 0.6194 - val_rpn_class_loss: 0.0093 - val_rpn_bbox_loss: 0.2795 - val_mrcnn_class_loss: 0.1039 - val_mrcnn_bbox_loss: 0.0756 - val_mrcnn_mask_loss: 0.1511\n"
     ]
    }
   ],
   "source": [
    "# Train the head branches\n",
    "# Passing layers=\"heads\" freezes all layers except the head\n",
    "# layers. You can also pass a regular expression to select\n",
    "# which layers to train by name pattern.\n",
    "model.train(dataset_train, dataset_val, \n",
    "            learning_rate=config.LEARNING_RATE, \n",
    "            epochs=10, \n",
    "            layers='heads')"
   ]
  },
  {
   "cell_type": "code",
   "execution_count": 10,
   "metadata": {},
   "outputs": [
    {
     "name": "stdout",
     "output_type": "stream",
     "text": [
      "\n",
      "Starting at epoch 10. LR=0.0001\n",
      "\n",
      "Checkpoint Path: D:\\workspace\\shuwen\\DL_dev\\Mask_RCNN\\logs\\shapes20171129T1523\\mask_rcnn_shapes_{epoch:04d}.h5\n",
      "Selecting layers to train\n",
      "conv1                  (Conv2D)\n",
      "bn_conv1               (BatchNorm)\n",
      "res2a_branch2a         (Conv2D)\n",
      "bn2a_branch2a          (BatchNorm)\n",
      "res2a_branch2b         (Conv2D)\n",
      "bn2a_branch2b          (BatchNorm)\n",
      "res2a_branch2c         (Conv2D)\n",
      "res2a_branch1          (Conv2D)\n",
      "bn2a_branch2c          (BatchNorm)\n",
      "bn2a_branch1           (BatchNorm)\n",
      "res2b_branch2a         (Conv2D)\n",
      "bn2b_branch2a          (BatchNorm)\n",
      "res2b_branch2b         (Conv2D)\n",
      "bn2b_branch2b          (BatchNorm)\n",
      "res2b_branch2c         (Conv2D)\n",
      "bn2b_branch2c          (BatchNorm)\n",
      "res2c_branch2a         (Conv2D)\n",
      "bn2c_branch2a          (BatchNorm)\n",
      "res2c_branch2b         (Conv2D)\n",
      "bn2c_branch2b          (BatchNorm)\n",
      "res2c_branch2c         (Conv2D)\n",
      "bn2c_branch2c          (BatchNorm)\n",
      "res3a_branch2a         (Conv2D)\n",
      "bn3a_branch2a          (BatchNorm)\n",
      "res3a_branch2b         (Conv2D)\n",
      "bn3a_branch2b          (BatchNorm)\n",
      "res3a_branch2c         (Conv2D)\n",
      "res3a_branch1          (Conv2D)\n",
      "bn3a_branch2c          (BatchNorm)\n",
      "bn3a_branch1           (BatchNorm)\n",
      "res3b_branch2a         (Conv2D)\n",
      "bn3b_branch2a          (BatchNorm)\n",
      "res3b_branch2b         (Conv2D)\n",
      "bn3b_branch2b          (BatchNorm)\n",
      "res3b_branch2c         (Conv2D)\n",
      "bn3b_branch2c          (BatchNorm)\n",
      "res3c_branch2a         (Conv2D)\n",
      "bn3c_branch2a          (BatchNorm)\n",
      "res3c_branch2b         (Conv2D)\n",
      "bn3c_branch2b          (BatchNorm)\n",
      "res3c_branch2c         (Conv2D)\n",
      "bn3c_branch2c          (BatchNorm)\n",
      "res3d_branch2a         (Conv2D)\n",
      "bn3d_branch2a          (BatchNorm)\n",
      "res3d_branch2b         (Conv2D)\n",
      "bn3d_branch2b          (BatchNorm)\n",
      "res3d_branch2c         (Conv2D)\n",
      "bn3d_branch2c          (BatchNorm)\n",
      "res4a_branch2a         (Conv2D)\n",
      "bn4a_branch2a          (BatchNorm)\n",
      "res4a_branch2b         (Conv2D)\n",
      "bn4a_branch2b          (BatchNorm)\n",
      "res4a_branch2c         (Conv2D)\n",
      "res4a_branch1          (Conv2D)\n",
      "bn4a_branch2c          (BatchNorm)\n",
      "bn4a_branch1           (BatchNorm)\n",
      "res4b_branch2a         (Conv2D)\n",
      "bn4b_branch2a          (BatchNorm)\n",
      "res4b_branch2b         (Conv2D)\n",
      "bn4b_branch2b          (BatchNorm)\n",
      "res4b_branch2c         (Conv2D)\n",
      "bn4b_branch2c          (BatchNorm)\n",
      "res4c_branch2a         (Conv2D)\n",
      "bn4c_branch2a          (BatchNorm)\n",
      "res4c_branch2b         (Conv2D)\n",
      "bn4c_branch2b          (BatchNorm)\n",
      "res4c_branch2c         (Conv2D)\n",
      "bn4c_branch2c          (BatchNorm)\n",
      "res4d_branch2a         (Conv2D)\n",
      "bn4d_branch2a          (BatchNorm)\n",
      "res4d_branch2b         (Conv2D)\n",
      "bn4d_branch2b          (BatchNorm)\n",
      "res4d_branch2c         (Conv2D)\n",
      "bn4d_branch2c          (BatchNorm)\n",
      "res4e_branch2a         (Conv2D)\n",
      "bn4e_branch2a          (BatchNorm)\n",
      "res4e_branch2b         (Conv2D)\n",
      "bn4e_branch2b          (BatchNorm)\n",
      "res4e_branch2c         (Conv2D)\n",
      "bn4e_branch2c          (BatchNorm)\n",
      "res4f_branch2a         (Conv2D)\n",
      "bn4f_branch2a          (BatchNorm)\n",
      "res4f_branch2b         (Conv2D)\n",
      "bn4f_branch2b          (BatchNorm)\n",
      "res4f_branch2c         (Conv2D)\n",
      "bn4f_branch2c          (BatchNorm)\n",
      "res4g_branch2a         (Conv2D)\n",
      "bn4g_branch2a          (BatchNorm)\n",
      "res4g_branch2b         (Conv2D)\n",
      "bn4g_branch2b          (BatchNorm)\n",
      "res4g_branch2c         (Conv2D)\n",
      "bn4g_branch2c          (BatchNorm)\n",
      "res4h_branch2a         (Conv2D)\n",
      "bn4h_branch2a          (BatchNorm)\n",
      "res4h_branch2b         (Conv2D)\n",
      "bn4h_branch2b          (BatchNorm)\n",
      "res4h_branch2c         (Conv2D)\n",
      "bn4h_branch2c          (BatchNorm)"
     ]
    },
    {
     "name": "stderr",
     "output_type": "stream",
     "text": [
      "D:\\Anaconda3\\lib\\site-packages\\tensorflow\\python\\ops\\gradients_impl.py:95: UserWarning: Converting sparse IndexedSlices to a dense Tensor of unknown shape. This may consume a large amount of memory.\n",
      "  \"Converting sparse IndexedSlices to a dense Tensor of unknown shape. \"\n"
     ]
    },
    {
     "name": "stdout",
     "output_type": "stream",
     "text": [
      "\n",
      "res4i_branch2a         (Conv2D)\n",
      "bn4i_branch2a          (BatchNorm)\n",
      "res4i_branch2b         (Conv2D)\n",
      "bn4i_branch2b          (BatchNorm)\n",
      "res4i_branch2c         (Conv2D)\n",
      "bn4i_branch2c          (BatchNorm)\n",
      "res4j_branch2a         (Conv2D)\n",
      "bn4j_branch2a          (BatchNorm)\n",
      "res4j_branch2b         (Conv2D)\n",
      "bn4j_branch2b          (BatchNorm)\n",
      "res4j_branch2c         (Conv2D)\n",
      "bn4j_branch2c          (BatchNorm)\n",
      "res4k_branch2a         (Conv2D)\n",
      "bn4k_branch2a          (BatchNorm)\n",
      "res4k_branch2b         (Conv2D)\n",
      "bn4k_branch2b          (BatchNorm)\n",
      "res4k_branch2c         (Conv2D)\n",
      "bn4k_branch2c          (BatchNorm)\n",
      "res4l_branch2a         (Conv2D)\n",
      "bn4l_branch2a          (BatchNorm)\n",
      "res4l_branch2b         (Conv2D)\n",
      "bn4l_branch2b          (BatchNorm)\n",
      "res4l_branch2c         (Conv2D)\n",
      "bn4l_branch2c          (BatchNorm)\n",
      "res4m_branch2a         (Conv2D)\n",
      "bn4m_branch2a          (BatchNorm)\n",
      "res4m_branch2b         (Conv2D)\n",
      "bn4m_branch2b          (BatchNorm)\n",
      "res4m_branch2c         (Conv2D)\n",
      "bn4m_branch2c          (BatchNorm)\n",
      "res4n_branch2a         (Conv2D)\n",
      "bn4n_branch2a          (BatchNorm)\n",
      "res4n_branch2b         (Conv2D)\n",
      "bn4n_branch2b          (BatchNorm)\n",
      "res4n_branch2c         (Conv2D)\n",
      "bn4n_branch2c          (BatchNorm)\n",
      "res4o_branch2a         (Conv2D)\n",
      "bn4o_branch2a          (BatchNorm)\n",
      "res4o_branch2b         (Conv2D)\n",
      "bn4o_branch2b          (BatchNorm)\n",
      "res4o_branch2c         (Conv2D)\n",
      "bn4o_branch2c          (BatchNorm)\n",
      "res4p_branch2a         (Conv2D)\n",
      "bn4p_branch2a          (BatchNorm)\n",
      "res4p_branch2b         (Conv2D)\n",
      "bn4p_branch2b          (BatchNorm)\n",
      "res4p_branch2c         (Conv2D)\n",
      "bn4p_branch2c          (BatchNorm)\n",
      "res4q_branch2a         (Conv2D)\n",
      "bn4q_branch2a          (BatchNorm)\n",
      "res4q_branch2b         (Conv2D)\n",
      "bn4q_branch2b          (BatchNorm)\n",
      "res4q_branch2c         (Conv2D)\n",
      "bn4q_branch2c          (BatchNorm)\n",
      "res4r_branch2a         (Conv2D)\n",
      "bn4r_branch2a          (BatchNorm)\n",
      "res4r_branch2b         (Conv2D)\n",
      "bn4r_branch2b          (BatchNorm)\n",
      "res4r_branch2c         (Conv2D)\n",
      "bn4r_branch2c          (BatchNorm)\n",
      "res4s_branch2a         (Conv2D)\n",
      "bn4s_branch2a          (BatchNorm)\n",
      "res4s_branch2b         (Conv2D)\n",
      "bn4s_branch2b          (BatchNorm)\n",
      "res4s_branch2c         (Conv2D)\n",
      "bn4s_branch2c          (BatchNorm)\n",
      "res4t_branch2a         (Conv2D)\n",
      "bn4t_branch2a          (BatchNorm)\n",
      "res4t_branch2b         (Conv2D)\n",
      "bn4t_branch2b          (BatchNorm)\n",
      "res4t_branch2c         (Conv2D)\n",
      "bn4t_branch2c          (BatchNorm)\n",
      "res4u_branch2a         (Conv2D)\n",
      "bn4u_branch2a          (BatchNorm)\n",
      "res4u_branch2b         (Conv2D)\n",
      "bn4u_branch2b          (BatchNorm)\n",
      "res4u_branch2c         (Conv2D)\n",
      "bn4u_branch2c          (BatchNorm)\n",
      "res4v_branch2a         (Conv2D)\n",
      "bn4v_branch2a          (BatchNorm)\n",
      "res4v_branch2b         (Conv2D)\n",
      "bn4v_branch2b          (BatchNorm)\n",
      "res4v_branch2c         (Conv2D)\n",
      "bn4v_branch2c          (BatchNorm)\n",
      "res4w_branch2a         (Conv2D)\n",
      "bn4w_branch2a          (BatchNorm)\n",
      "res4w_branch2b         (Conv2D)\n",
      "bn4w_branch2b          (BatchNorm)\n",
      "res4w_branch2c         (Conv2D)\n",
      "bn4w_branch2c          (BatchNorm)\n",
      "res5a_branch2a         (Conv2D)\n",
      "bn5a_branch2a          (BatchNorm)\n",
      "res5a_branch2b         (Conv2D)\n",
      "bn5a_branch2b          (BatchNorm)\n",
      "res5a_branch2c         (Conv2D)\n",
      "res5a_branch1          (Conv2D)\n",
      "bn5a_branch2c          (BatchNorm)\n",
      "bn5a_branch1           (BatchNorm)\n",
      "res5b_branch2a         (Conv2D)\n",
      "bn5b_branch2a          (BatchNorm)\n",
      "res5b_branch2b         (Conv2D)\n",
      "bn5b_branch2b          (BatchNorm)\n",
      "res5b_branch2c         (Conv2D)\n",
      "bn5b_branch2c          (BatchNorm)\n",
      "res5c_branch2a         (Conv2D)\n",
      "bn5c_branch2a          (BatchNorm)\n",
      "res5c_branch2b         (Conv2D)\n",
      "bn5c_branch2b          (BatchNorm)\n",
      "res5c_branch2c         (Conv2D)\n",
      "bn5c_branch2c          (BatchNorm)\n",
      "fpn_c5p5               (Conv2D)\n",
      "fpn_c4p4               (Conv2D)\n",
      "fpn_c3p3               (Conv2D)\n",
      "fpn_c2p2               (Conv2D)\n",
      "fpn_p5                 (Conv2D)\n",
      "fpn_p2                 (Conv2D)\n",
      "fpn_p3                 (Conv2D)\n",
      "fpn_p4                 (Conv2D)\n",
      "In model:  rpn_model\n",
      "    rpn_conv_shared        (Conv2D)\n",
      "    rpn_class_raw          (Conv2D)\n",
      "    rpn_bbox_pred          (Conv2D)\n",
      "mrcnn_mask_conv1       (TimeDistributed)\n",
      "mrcnn_mask_bn1         (TimeDistributed)\n",
      "mrcnn_mask_conv2       (TimeDistributed)\n",
      "mrcnn_mask_bn2         (TimeDistributed)\n",
      "mrcnn_class_conv1      (TimeDistributed)\n",
      "mrcnn_class_bn1        (TimeDistributed)\n",
      "mrcnn_mask_conv3       (TimeDistributed)\n",
      "mrcnn_mask_bn3         (TimeDistributed)\n",
      "mrcnn_class_conv2      (TimeDistributed)\n",
      "mrcnn_class_bn2        (TimeDistributed)\n",
      "mrcnn_mask_conv4       (TimeDistributed)\n",
      "mrcnn_mask_bn4         (TimeDistributed)\n",
      "mrcnn_bbox_fc          (TimeDistributed)\n",
      "mrcnn_mask_deconv      (TimeDistributed)\n",
      "mrcnn_class_logits     (TimeDistributed)\n",
      "mrcnn_mask             (TimeDistributed)\n",
      "Epoch 11/100\n",
      "100/100 [==============================] - 41s 412ms/step - loss: 0.6524 - rpn_class_loss: 0.0098 - rpn_bbox_loss: 0.3440 - mrcnn_class_loss: 0.1006 - mrcnn_bbox_loss: 0.0558 - mrcnn_mask_loss: 0.1422 - val_loss: 0.4915 - val_rpn_class_loss: 0.0106 - val_rpn_bbox_loss: 0.2369 - val_mrcnn_class_loss: 0.0861 - val_mrcnn_bbox_loss: 0.0367 - val_mrcnn_mask_loss: 0.1211\n",
      "Epoch 12/100\n",
      "100/100 [==============================] - 37s 374ms/step - loss: 0.6058 - rpn_class_loss: 0.0088 - rpn_bbox_loss: 0.3207 - mrcnn_class_loss: 0.0935 - mrcnn_bbox_loss: 0.0517 - mrcnn_mask_loss: 0.1312 - val_loss: 0.4841 - val_rpn_class_loss: 0.0104 - val_rpn_bbox_loss: 0.2301 - val_mrcnn_class_loss: 0.0720 - val_mrcnn_bbox_loss: 0.0227 - val_mrcnn_mask_loss: 0.1489\n",
      "Epoch 13/100\n",
      "100/100 [==============================] - 37s 374ms/step - loss: 0.5998 - rpn_class_loss: 0.0086 - rpn_bbox_loss: 0.3149 - mrcnn_class_loss: 0.0897 - mrcnn_bbox_loss: 0.0494 - mrcnn_mask_loss: 0.1372 - val_loss: 0.4510 - val_rpn_class_loss: 0.0104 - val_rpn_bbox_loss: 0.2281 - val_mrcnn_class_loss: 0.0784 - val_mrcnn_bbox_loss: 0.0272 - val_mrcnn_mask_loss: 0.1069\n",
      "Epoch 14/100\n",
      "100/100 [==============================] - 37s 375ms/step - loss: 0.5848 - rpn_class_loss: 0.0087 - rpn_bbox_loss: 0.3014 - mrcnn_class_loss: 0.0915 - mrcnn_bbox_loss: 0.0465 - mrcnn_mask_loss: 0.1367 - val_loss: 0.4602 - val_rpn_class_loss: 0.0101 - val_rpn_bbox_loss: 0.2259 - val_mrcnn_class_loss: 0.0899 - val_mrcnn_bbox_loss: 0.0284 - val_mrcnn_mask_loss: 0.1059\n",
      "Epoch 15/100\n",
      "100/100 [==============================] - 38s 376ms/step - loss: 0.5599 - rpn_class_loss: 0.0085 - rpn_bbox_loss: 0.3056 - mrcnn_class_loss: 0.0852 - mrcnn_bbox_loss: 0.0441 - mrcnn_mask_loss: 0.1165 - val_loss: 0.4031 - val_rpn_class_loss: 0.0106 - val_rpn_bbox_loss: 0.2163 - val_mrcnn_class_loss: 0.0759 - val_mrcnn_bbox_loss: 0.0256 - val_mrcnn_mask_loss: 0.0747\n",
      "Epoch 16/100\n",
      "100/100 [==============================] - 38s 378ms/step - loss: 0.5495 - rpn_class_loss: 0.0079 - rpn_bbox_loss: 0.2876 - mrcnn_class_loss: 0.0906 - mrcnn_bbox_loss: 0.0464 - mrcnn_mask_loss: 0.1170 - val_loss: 0.4324 - val_rpn_class_loss: 0.0102 - val_rpn_bbox_loss: 0.2114 - val_mrcnn_class_loss: 0.1040 - val_mrcnn_bbox_loss: 0.0234 - val_mrcnn_mask_loss: 0.0834\n",
      "Epoch 17/100\n",
      "100/100 [==============================] - 37s 375ms/step - loss: 0.5147 - rpn_class_loss: 0.0081 - rpn_bbox_loss: 0.2657 - mrcnn_class_loss: 0.0847 - mrcnn_bbox_loss: 0.0418 - mrcnn_mask_loss: 0.1144 - val_loss: 0.4514 - val_rpn_class_loss: 0.0104 - val_rpn_bbox_loss: 0.1980 - val_mrcnn_class_loss: 0.1021 - val_mrcnn_bbox_loss: 0.0260 - val_mrcnn_mask_loss: 0.1149\n",
      "Epoch 18/100\n",
      "100/100 [==============================] - 38s 375ms/step - loss: 0.5354 - rpn_class_loss: 0.0083 - rpn_bbox_loss: 0.2779 - mrcnn_class_loss: 0.0858 - mrcnn_bbox_loss: 0.0464 - mrcnn_mask_loss: 0.1170 - val_loss: 0.4115 - val_rpn_class_loss: 0.0107 - val_rpn_bbox_loss: 0.1894 - val_mrcnn_class_loss: 0.1028 - val_mrcnn_bbox_loss: 0.0434 - val_mrcnn_mask_loss: 0.0652\n",
      "Epoch 19/100\n",
      "100/100 [==============================] - 38s 377ms/step - loss: 0.5164 - rpn_class_loss: 0.0081 - rpn_bbox_loss: 0.2665 - mrcnn_class_loss: 0.0822 - mrcnn_bbox_loss: 0.0419 - mrcnn_mask_loss: 0.1176 - val_loss: 0.3945 - val_rpn_class_loss: 0.0106 - val_rpn_bbox_loss: 0.1896 - val_mrcnn_class_loss: 0.0739 - val_mrcnn_bbox_loss: 0.0352 - val_mrcnn_mask_loss: 0.0851\n",
      "Epoch 20/100\n"
     ]
    },
    {
     "name": "stdout",
     "output_type": "stream",
     "text": [
      "100/100 [==============================] - 38s 377ms/step - loss: 0.5018 - rpn_class_loss: 0.0080 - rpn_bbox_loss: 0.2534 - mrcnn_class_loss: 0.0818 - mrcnn_bbox_loss: 0.0409 - mrcnn_mask_loss: 0.1177 - val_loss: 0.3744 - val_rpn_class_loss: 0.0104 - val_rpn_bbox_loss: 0.1754 - val_mrcnn_class_loss: 0.0610 - val_mrcnn_bbox_loss: 0.0353 - val_mrcnn_mask_loss: 0.0923\n",
      "Epoch 21/100\n",
      "100/100 [==============================] - 38s 375ms/step - loss: 0.4700 - rpn_class_loss: 0.0077 - rpn_bbox_loss: 0.2426 - mrcnn_class_loss: 0.0740 - mrcnn_bbox_loss: 0.0398 - mrcnn_mask_loss: 0.1058 - val_loss: 0.4338 - val_rpn_class_loss: 0.0106 - val_rpn_bbox_loss: 0.1679 - val_mrcnn_class_loss: 0.1138 - val_mrcnn_bbox_loss: 0.0309 - val_mrcnn_mask_loss: 0.1105\n",
      "Epoch 22/100\n",
      "100/100 [==============================] - 37s 375ms/step - loss: 0.4707 - rpn_class_loss: 0.0079 - rpn_bbox_loss: 0.2229 - mrcnn_class_loss: 0.0810 - mrcnn_bbox_loss: 0.0421 - mrcnn_mask_loss: 0.1168 - val_loss: 0.4317 - val_rpn_class_loss: 0.0109 - val_rpn_bbox_loss: 0.1690 - val_mrcnn_class_loss: 0.0885 - val_mrcnn_bbox_loss: 0.0388 - val_mrcnn_mask_loss: 0.1245\n",
      "Epoch 23/100\n",
      "100/100 [==============================] - 37s 374ms/step - loss: 0.4429 - rpn_class_loss: 0.0076 - rpn_bbox_loss: 0.2169 - mrcnn_class_loss: 0.0749 - mrcnn_bbox_loss: 0.0373 - mrcnn_mask_loss: 0.1062 - val_loss: 0.4519 - val_rpn_class_loss: 0.0109 - val_rpn_bbox_loss: 0.1490 - val_mrcnn_class_loss: 0.0863 - val_mrcnn_bbox_loss: 0.0310 - val_mrcnn_mask_loss: 0.1746\n",
      "Epoch 24/100\n",
      "100/100 [==============================] - 37s 373ms/step - loss: 0.4312 - rpn_class_loss: 0.0075 - rpn_bbox_loss: 0.2086 - mrcnn_class_loss: 0.0748 - mrcnn_bbox_loss: 0.0399 - mrcnn_mask_loss: 0.1003 - val_loss: 0.3599 - val_rpn_class_loss: 0.0111 - val_rpn_bbox_loss: 0.1461 - val_mrcnn_class_loss: 0.0661 - val_mrcnn_bbox_loss: 0.0260 - val_mrcnn_mask_loss: 0.1107\n",
      "Epoch 25/100\n",
      "100/100 [==============================] - 38s 375ms/step - loss: 0.4026 - rpn_class_loss: 0.0075 - rpn_bbox_loss: 0.1923 - mrcnn_class_loss: 0.0674 - mrcnn_bbox_loss: 0.0357 - mrcnn_mask_loss: 0.0997 - val_loss: 0.3421 - val_rpn_class_loss: 0.0108 - val_rpn_bbox_loss: 0.1311 - val_mrcnn_class_loss: 0.0909 - val_mrcnn_bbox_loss: 0.0268 - val_mrcnn_mask_loss: 0.0825\n",
      "Epoch 26/100\n",
      "100/100 [==============================] - 38s 377ms/step - loss: 0.4330 - rpn_class_loss: 0.0080 - rpn_bbox_loss: 0.2143 - mrcnn_class_loss: 0.0682 - mrcnn_bbox_loss: 0.0384 - mrcnn_mask_loss: 0.1041 - val_loss: 0.3612 - val_rpn_class_loss: 0.0106 - val_rpn_bbox_loss: 0.1445 - val_mrcnn_class_loss: 0.0731 - val_mrcnn_bbox_loss: 0.0259 - val_mrcnn_mask_loss: 0.1071\n",
      "Epoch 27/100\n",
      "100/100 [==============================] - 38s 377ms/step - loss: 0.4176 - rpn_class_loss: 0.0077 - rpn_bbox_loss: 0.1958 - mrcnn_class_loss: 0.0696 - mrcnn_bbox_loss: 0.0360 - mrcnn_mask_loss: 0.1086 - val_loss: 0.3638 - val_rpn_class_loss: 0.0105 - val_rpn_bbox_loss: 0.1349 - val_mrcnn_class_loss: 0.0686 - val_mrcnn_bbox_loss: 0.0328 - val_mrcnn_mask_loss: 0.1170\n",
      "Epoch 28/100\n",
      "100/100 [==============================] - 38s 383ms/step - loss: 0.4044 - rpn_class_loss: 0.0077 - rpn_bbox_loss: 0.1900 - mrcnn_class_loss: 0.0693 - mrcnn_bbox_loss: 0.0369 - mrcnn_mask_loss: 0.1004 - val_loss: 0.3153 - val_rpn_class_loss: 0.0105 - val_rpn_bbox_loss: 0.1271 - val_mrcnn_class_loss: 0.0810 - val_mrcnn_bbox_loss: 0.0261 - val_mrcnn_mask_loss: 0.0705\n",
      "Epoch 29/100\n",
      "100/100 [==============================] - 38s 381ms/step - loss: 0.4081 - rpn_class_loss: 0.0076 - rpn_bbox_loss: 0.1764 - mrcnn_class_loss: 0.0795 - mrcnn_bbox_loss: 0.0417 - mrcnn_mask_loss: 0.1029 - val_loss: 0.3114 - val_rpn_class_loss: 0.0107 - val_rpn_bbox_loss: 0.1185 - val_mrcnn_class_loss: 0.0706 - val_mrcnn_bbox_loss: 0.0294 - val_mrcnn_mask_loss: 0.0822\n",
      "Epoch 30/100\n",
      "100/100 [==============================] - 38s 381ms/step - loss: 0.4097 - rpn_class_loss: 0.0078 - rpn_bbox_loss: 0.1832 - mrcnn_class_loss: 0.0762 - mrcnn_bbox_loss: 0.0392 - mrcnn_mask_loss: 0.1032 - val_loss: 0.2803 - val_rpn_class_loss: 0.0103 - val_rpn_bbox_loss: 0.1194 - val_mrcnn_class_loss: 0.0532 - val_mrcnn_bbox_loss: 0.0199 - val_mrcnn_mask_loss: 0.0775\n",
      "Epoch 31/100\n",
      "100/100 [==============================] - 38s 377ms/step - loss: 0.3972 - rpn_class_loss: 0.0075 - rpn_bbox_loss: 0.1726 - mrcnn_class_loss: 0.0792 - mrcnn_bbox_loss: 0.0364 - mrcnn_mask_loss: 0.1014 - val_loss: 0.3427 - val_rpn_class_loss: 0.0104 - val_rpn_bbox_loss: 0.1170 - val_mrcnn_class_loss: 0.0859 - val_mrcnn_bbox_loss: 0.0324 - val_mrcnn_mask_loss: 0.0970\n",
      "Epoch 32/100\n",
      "100/100 [==============================] - 38s 380ms/step - loss: 0.3924 - rpn_class_loss: 0.0076 - rpn_bbox_loss: 0.1692 - mrcnn_class_loss: 0.0779 - mrcnn_bbox_loss: 0.0366 - mrcnn_mask_loss: 0.1011 - val_loss: 0.3291 - val_rpn_class_loss: 0.0103 - val_rpn_bbox_loss: 0.1085 - val_mrcnn_class_loss: 0.0789 - val_mrcnn_bbox_loss: 0.0361 - val_mrcnn_mask_loss: 0.0951\n",
      "Epoch 33/100\n",
      "100/100 [==============================] - 38s 377ms/step - loss: 0.3800 - rpn_class_loss: 0.0075 - rpn_bbox_loss: 0.1709 - mrcnn_class_loss: 0.0712 - mrcnn_bbox_loss: 0.0360 - mrcnn_mask_loss: 0.0945 - val_loss: 0.2992 - val_rpn_class_loss: 0.0099 - val_rpn_bbox_loss: 0.1263 - val_mrcnn_class_loss: 0.0622 - val_mrcnn_bbox_loss: 0.0273 - val_mrcnn_mask_loss: 0.0734\n",
      "Epoch 34/100\n",
      "100/100 [==============================] - 38s 377ms/step - loss: 0.3810 - rpn_class_loss: 0.0073 - rpn_bbox_loss: 0.1614 - mrcnn_class_loss: 0.0732 - mrcnn_bbox_loss: 0.0378 - mrcnn_mask_loss: 0.1013 - val_loss: 0.3539 - val_rpn_class_loss: 0.0098 - val_rpn_bbox_loss: 0.1207 - val_mrcnn_class_loss: 0.0804 - val_mrcnn_bbox_loss: 0.0402 - val_mrcnn_mask_loss: 0.1029\n",
      "Epoch 35/100\n",
      "100/100 [==============================] - 38s 377ms/step - loss: 0.3583 - rpn_class_loss: 0.0075 - rpn_bbox_loss: 0.1658 - mrcnn_class_loss: 0.0673 - mrcnn_bbox_loss: 0.0346 - mrcnn_mask_loss: 0.0830 - val_loss: 0.3011 - val_rpn_class_loss: 0.0099 - val_rpn_bbox_loss: 0.1243 - val_mrcnn_class_loss: 0.0501 - val_mrcnn_bbox_loss: 0.0297 - val_mrcnn_mask_loss: 0.0871\n",
      "Epoch 36/100\n",
      "100/100 [==============================] - 37s 375ms/step - loss: 0.3505 - rpn_class_loss: 0.0072 - rpn_bbox_loss: 0.1529 - mrcnn_class_loss: 0.0612 - mrcnn_bbox_loss: 0.0342 - mrcnn_mask_loss: 0.0950 - val_loss: 0.2792 - val_rpn_class_loss: 0.0099 - val_rpn_bbox_loss: 0.1147 - val_mrcnn_class_loss: 0.0483 - val_mrcnn_bbox_loss: 0.0232 - val_mrcnn_mask_loss: 0.0832\n",
      "Epoch 37/100\n",
      "100/100 [==============================] - 38s 378ms/step - loss: 0.3416 - rpn_class_loss: 0.0072 - rpn_bbox_loss: 0.1537 - mrcnn_class_loss: 0.0643 - mrcnn_bbox_loss: 0.0344 - mrcnn_mask_loss: 0.0821 - val_loss: 0.3444 - val_rpn_class_loss: 0.0097 - val_rpn_bbox_loss: 0.1029 - val_mrcnn_class_loss: 0.0950 - val_mrcnn_bbox_loss: 0.0265 - val_mrcnn_mask_loss: 0.1104\n",
      "Epoch 38/100\n",
      "100/100 [==============================] - 38s 377ms/step - loss: 0.3605 - rpn_class_loss: 0.0070 - rpn_bbox_loss: 0.1557 - mrcnn_class_loss: 0.0682 - mrcnn_bbox_loss: 0.0343 - mrcnn_mask_loss: 0.0953 - val_loss: 0.2368 - val_rpn_class_loss: 0.0097 - val_rpn_bbox_loss: 0.0934 - val_mrcnn_class_loss: 0.0530 - val_mrcnn_bbox_loss: 0.0174 - val_mrcnn_mask_loss: 0.0632\n",
      "Epoch 39/100\n",
      "100/100 [==============================] - 38s 379ms/step - loss: 0.3320 - rpn_class_loss: 0.0069 - rpn_bbox_loss: 0.1375 - mrcnn_class_loss: 0.0652 - mrcnn_bbox_loss: 0.0323 - mrcnn_mask_loss: 0.0900 - val_loss: 0.2978 - val_rpn_class_loss: 0.0098 - val_rpn_bbox_loss: 0.0972 - val_mrcnn_class_loss: 0.0842 - val_mrcnn_bbox_loss: 0.0201 - val_mrcnn_mask_loss: 0.0865\n",
      "Epoch 40/100\n",
      "100/100 [==============================] - 38s 379ms/step - loss: 0.3530 - rpn_class_loss: 0.0071 - rpn_bbox_loss: 0.1488 - mrcnn_class_loss: 0.0711 - mrcnn_bbox_loss: 0.0351 - mrcnn_mask_loss: 0.0908 - val_loss: 0.2357 - val_rpn_class_loss: 0.0096 - val_rpn_bbox_loss: 0.1025 - val_mrcnn_class_loss: 0.0474 - val_mrcnn_bbox_loss: 0.0194 - val_mrcnn_mask_loss: 0.0569\n",
      "Epoch 41/100\n"
     ]
    },
    {
     "name": "stdout",
     "output_type": "stream",
     "text": [
      "100/100 [==============================] - 38s 378ms/step - loss: 0.3418 - rpn_class_loss: 0.0067 - rpn_bbox_loss: 0.1415 - mrcnn_class_loss: 0.0685 - mrcnn_bbox_loss: 0.0333 - mrcnn_mask_loss: 0.0918 - val_loss: 0.4024 - val_rpn_class_loss: 0.0095 - val_rpn_bbox_loss: 0.1108 - val_mrcnn_class_loss: 0.1062 - val_mrcnn_bbox_loss: 0.0305 - val_mrcnn_mask_loss: 0.1454\n",
      "Epoch 42/100\n",
      "100/100 [==============================] - 37s 374ms/step - loss: 0.3287 - rpn_class_loss: 0.0070 - rpn_bbox_loss: 0.1362 - mrcnn_class_loss: 0.0678 - mrcnn_bbox_loss: 0.0321 - mrcnn_mask_loss: 0.0856 - val_loss: 0.2764 - val_rpn_class_loss: 0.0092 - val_rpn_bbox_loss: 0.1001 - val_mrcnn_class_loss: 0.0713 - val_mrcnn_bbox_loss: 0.0266 - val_mrcnn_mask_loss: 0.0693\n",
      "Epoch 43/100\n",
      "100/100 [==============================] - 38s 378ms/step - loss: 0.3465 - rpn_class_loss: 0.0072 - rpn_bbox_loss: 0.1479 - mrcnn_class_loss: 0.0635 - mrcnn_bbox_loss: 0.0324 - mrcnn_mask_loss: 0.0955 - val_loss: 0.2567 - val_rpn_class_loss: 0.0097 - val_rpn_bbox_loss: 0.1007 - val_mrcnn_class_loss: 0.0482 - val_mrcnn_bbox_loss: 0.0240 - val_mrcnn_mask_loss: 0.0741\n",
      "Epoch 44/100\n",
      "100/100 [==============================] - 38s 376ms/step - loss: 0.3233 - rpn_class_loss: 0.0069 - rpn_bbox_loss: 0.1326 - mrcnn_class_loss: 0.0681 - mrcnn_bbox_loss: 0.0321 - mrcnn_mask_loss: 0.0836 - val_loss: 0.2839 - val_rpn_class_loss: 0.0094 - val_rpn_bbox_loss: 0.1002 - val_mrcnn_class_loss: 0.0738 - val_mrcnn_bbox_loss: 0.0179 - val_mrcnn_mask_loss: 0.0826\n",
      "Epoch 45/100\n",
      "100/100 [==============================] - 38s 377ms/step - loss: 0.3244 - rpn_class_loss: 0.0068 - rpn_bbox_loss: 0.1330 - mrcnn_class_loss: 0.0716 - mrcnn_bbox_loss: 0.0340 - mrcnn_mask_loss: 0.0790 - val_loss: 0.2931 - val_rpn_class_loss: 0.0095 - val_rpn_bbox_loss: 0.1018 - val_mrcnn_class_loss: 0.0836 - val_mrcnn_bbox_loss: 0.0178 - val_mrcnn_mask_loss: 0.0804\n",
      "Epoch 46/100\n",
      "100/100 [==============================] - 38s 379ms/step - loss: 0.3315 - rpn_class_loss: 0.0064 - rpn_bbox_loss: 0.1365 - mrcnn_class_loss: 0.0639 - mrcnn_bbox_loss: 0.0327 - mrcnn_mask_loss: 0.0920 - val_loss: 0.2650 - val_rpn_class_loss: 0.0090 - val_rpn_bbox_loss: 0.0989 - val_mrcnn_class_loss: 0.0780 - val_mrcnn_bbox_loss: 0.0281 - val_mrcnn_mask_loss: 0.0511\n",
      "Epoch 47/100\n",
      "100/100 [==============================] - 38s 376ms/step - loss: 0.3241 - rpn_class_loss: 0.0065 - rpn_bbox_loss: 0.1316 - mrcnn_class_loss: 0.0644 - mrcnn_bbox_loss: 0.0320 - mrcnn_mask_loss: 0.0897 - val_loss: 0.2845 - val_rpn_class_loss: 0.0091 - val_rpn_bbox_loss: 0.0964 - val_mrcnn_class_loss: 0.0582 - val_mrcnn_bbox_loss: 0.0306 - val_mrcnn_mask_loss: 0.0902\n",
      "Epoch 48/100\n",
      "100/100 [==============================] - 37s 374ms/step - loss: 0.2900 - rpn_class_loss: 0.0066 - rpn_bbox_loss: 0.1203 - mrcnn_class_loss: 0.0613 - mrcnn_bbox_loss: 0.0297 - mrcnn_mask_loss: 0.0720 - val_loss: 0.2675 - val_rpn_class_loss: 0.0093 - val_rpn_bbox_loss: 0.0970 - val_mrcnn_class_loss: 0.0538 - val_mrcnn_bbox_loss: 0.0250 - val_mrcnn_mask_loss: 0.0824\n",
      "Epoch 49/100\n",
      "100/100 [==============================] - 38s 375ms/step - loss: 0.3278 - rpn_class_loss: 0.0064 - rpn_bbox_loss: 0.1345 - mrcnn_class_loss: 0.0600 - mrcnn_bbox_loss: 0.0312 - mrcnn_mask_loss: 0.0957 - val_loss: 0.2866 - val_rpn_class_loss: 0.0092 - val_rpn_bbox_loss: 0.0888 - val_mrcnn_class_loss: 0.0625 - val_mrcnn_bbox_loss: 0.0265 - val_mrcnn_mask_loss: 0.0996\n",
      "Epoch 50/100\n",
      "100/100 [==============================] - 38s 376ms/step - loss: 0.3098 - rpn_class_loss: 0.0061 - rpn_bbox_loss: 0.1235 - mrcnn_class_loss: 0.0612 - mrcnn_bbox_loss: 0.0318 - mrcnn_mask_loss: 0.0872 - val_loss: 0.2514 - val_rpn_class_loss: 0.0091 - val_rpn_bbox_loss: 0.0969 - val_mrcnn_class_loss: 0.0483 - val_mrcnn_bbox_loss: 0.0328 - val_mrcnn_mask_loss: 0.0644\n",
      "Epoch 51/100\n",
      "100/100 [==============================] - 37s 375ms/step - loss: 0.3113 - rpn_class_loss: 0.0064 - rpn_bbox_loss: 0.1263 - mrcnn_class_loss: 0.0641 - mrcnn_bbox_loss: 0.0315 - mrcnn_mask_loss: 0.0831 - val_loss: 0.2042 - val_rpn_class_loss: 0.0089 - val_rpn_bbox_loss: 0.0860 - val_mrcnn_class_loss: 0.0338 - val_mrcnn_bbox_loss: 0.0119 - val_mrcnn_mask_loss: 0.0636\n",
      "Epoch 52/100\n",
      "100/100 [==============================] - 37s 375ms/step - loss: 0.2891 - rpn_class_loss: 0.0064 - rpn_bbox_loss: 0.1143 - mrcnn_class_loss: 0.0633 - mrcnn_bbox_loss: 0.0291 - mrcnn_mask_loss: 0.0760 - val_loss: 0.2907 - val_rpn_class_loss: 0.0088 - val_rpn_bbox_loss: 0.0981 - val_mrcnn_class_loss: 0.0454 - val_mrcnn_bbox_loss: 0.0253 - val_mrcnn_mask_loss: 0.1130\n",
      "Epoch 53/100\n",
      "100/100 [==============================] - 38s 380ms/step - loss: 0.2952 - rpn_class_loss: 0.0062 - rpn_bbox_loss: 0.1173 - mrcnn_class_loss: 0.0580 - mrcnn_bbox_loss: 0.0318 - mrcnn_mask_loss: 0.0820 - val_loss: 0.2619 - val_rpn_class_loss: 0.0087 - val_rpn_bbox_loss: 0.0786 - val_mrcnn_class_loss: 0.0487 - val_mrcnn_bbox_loss: 0.0162 - val_mrcnn_mask_loss: 0.1098\n",
      "Epoch 54/100\n",
      "100/100 [==============================] - 38s 376ms/step - loss: 0.2915 - rpn_class_loss: 0.0061 - rpn_bbox_loss: 0.1169 - mrcnn_class_loss: 0.0615 - mrcnn_bbox_loss: 0.0307 - mrcnn_mask_loss: 0.0763 - val_loss: 0.2474 - val_rpn_class_loss: 0.0086 - val_rpn_bbox_loss: 0.0896 - val_mrcnn_class_loss: 0.0445 - val_mrcnn_bbox_loss: 0.0204 - val_mrcnn_mask_loss: 0.0843\n",
      "Epoch 55/100\n",
      "100/100 [==============================] - 38s 378ms/step - loss: 0.3018 - rpn_class_loss: 0.0065 - rpn_bbox_loss: 0.1126 - mrcnn_class_loss: 0.0609 - mrcnn_bbox_loss: 0.0340 - mrcnn_mask_loss: 0.0879 - val_loss: 0.2363 - val_rpn_class_loss: 0.0082 - val_rpn_bbox_loss: 0.0921 - val_mrcnn_class_loss: 0.0500 - val_mrcnn_bbox_loss: 0.0157 - val_mrcnn_mask_loss: 0.0703\n",
      "Epoch 56/100\n",
      "100/100 [==============================] - 37s 373ms/step - loss: 0.2842 - rpn_class_loss: 0.0062 - rpn_bbox_loss: 0.1151 - mrcnn_class_loss: 0.0572 - mrcnn_bbox_loss: 0.0307 - mrcnn_mask_loss: 0.0750 - val_loss: 0.2263 - val_rpn_class_loss: 0.0083 - val_rpn_bbox_loss: 0.0807 - val_mrcnn_class_loss: 0.0400 - val_mrcnn_bbox_loss: 0.0174 - val_mrcnn_mask_loss: 0.0799\n",
      "Epoch 57/100\n",
      "100/100 [==============================] - 37s 374ms/step - loss: 0.2770 - rpn_class_loss: 0.0061 - rpn_bbox_loss: 0.1144 - mrcnn_class_loss: 0.0567 - mrcnn_bbox_loss: 0.0291 - mrcnn_mask_loss: 0.0707 - val_loss: 0.2517 - val_rpn_class_loss: 0.0083 - val_rpn_bbox_loss: 0.0847 - val_mrcnn_class_loss: 0.0536 - val_mrcnn_bbox_loss: 0.0187 - val_mrcnn_mask_loss: 0.0863\n",
      "Epoch 58/100\n",
      "100/100 [==============================] - 38s 376ms/step - loss: 0.2891 - rpn_class_loss: 0.0060 - rpn_bbox_loss: 0.1123 - mrcnn_class_loss: 0.0598 - mrcnn_bbox_loss: 0.0309 - mrcnn_mask_loss: 0.0801 - val_loss: 0.2346 - val_rpn_class_loss: 0.0085 - val_rpn_bbox_loss: 0.0765 - val_mrcnn_class_loss: 0.0358 - val_mrcnn_bbox_loss: 0.0153 - val_mrcnn_mask_loss: 0.0984\n",
      "Epoch 59/100\n",
      "100/100 [==============================] - 37s 374ms/step - loss: 0.2719 - rpn_class_loss: 0.0060 - rpn_bbox_loss: 0.1114 - mrcnn_class_loss: 0.0553 - mrcnn_bbox_loss: 0.0286 - mrcnn_mask_loss: 0.0706 - val_loss: 0.2556 - val_rpn_class_loss: 0.0081 - val_rpn_bbox_loss: 0.0870 - val_mrcnn_class_loss: 0.0462 - val_mrcnn_bbox_loss: 0.0310 - val_mrcnn_mask_loss: 0.0833\n",
      "Epoch 60/100\n",
      "100/100 [==============================] - 37s 374ms/step - loss: 0.2907 - rpn_class_loss: 0.0059 - rpn_bbox_loss: 0.1140 - mrcnn_class_loss: 0.0605 - mrcnn_bbox_loss: 0.0327 - mrcnn_mask_loss: 0.0776 - val_loss: 0.2567 - val_rpn_class_loss: 0.0084 - val_rpn_bbox_loss: 0.0835 - val_mrcnn_class_loss: 0.0404 - val_mrcnn_bbox_loss: 0.0213 - val_mrcnn_mask_loss: 0.1030\n",
      "Epoch 61/100\n",
      "100/100 [==============================] - 37s 374ms/step - loss: 0.2951 - rpn_class_loss: 0.0061 - rpn_bbox_loss: 0.1128 - mrcnn_class_loss: 0.0597 - mrcnn_bbox_loss: 0.0317 - mrcnn_mask_loss: 0.0849 - val_loss: 0.1899 - val_rpn_class_loss: 0.0079 - val_rpn_bbox_loss: 0.0802 - val_mrcnn_class_loss: 0.0349 - val_mrcnn_bbox_loss: 0.0161 - val_mrcnn_mask_loss: 0.0508\n",
      "Epoch 62/100\n"
     ]
    },
    {
     "name": "stdout",
     "output_type": "stream",
     "text": [
      "100/100 [==============================] - 37s 374ms/step - loss: 0.2790 - rpn_class_loss: 0.0060 - rpn_bbox_loss: 0.1085 - mrcnn_class_loss: 0.0604 - mrcnn_bbox_loss: 0.0294 - mrcnn_mask_loss: 0.0747 - val_loss: 0.2231 - val_rpn_class_loss: 0.0078 - val_rpn_bbox_loss: 0.0729 - val_mrcnn_class_loss: 0.0441 - val_mrcnn_bbox_loss: 0.0238 - val_mrcnn_mask_loss: 0.0745\n",
      "Epoch 63/100\n",
      "100/100 [==============================] - 37s 374ms/step - loss: 0.2436 - rpn_class_loss: 0.0055 - rpn_bbox_loss: 0.0994 - mrcnn_class_loss: 0.0500 - mrcnn_bbox_loss: 0.0278 - mrcnn_mask_loss: 0.0609 - val_loss: 0.2822 - val_rpn_class_loss: 0.0079 - val_rpn_bbox_loss: 0.0786 - val_mrcnn_class_loss: 0.0845 - val_mrcnn_bbox_loss: 0.0204 - val_mrcnn_mask_loss: 0.0909\n",
      "Epoch 64/100\n",
      "100/100 [==============================] - 37s 374ms/step - loss: 0.2701 - rpn_class_loss: 0.0053 - rpn_bbox_loss: 0.1010 - mrcnn_class_loss: 0.0536 - mrcnn_bbox_loss: 0.0289 - mrcnn_mask_loss: 0.0813 - val_loss: 0.2696 - val_rpn_class_loss: 0.0080 - val_rpn_bbox_loss: 0.0802 - val_mrcnn_class_loss: 0.0721 - val_mrcnn_bbox_loss: 0.0162 - val_mrcnn_mask_loss: 0.0930\n",
      "Epoch 65/100\n",
      "100/100 [==============================] - 37s 375ms/step - loss: 0.2545 - rpn_class_loss: 0.0057 - rpn_bbox_loss: 0.0970 - mrcnn_class_loss: 0.0505 - mrcnn_bbox_loss: 0.0285 - mrcnn_mask_loss: 0.0727 - val_loss: 0.2170 - val_rpn_class_loss: 0.0079 - val_rpn_bbox_loss: 0.0797 - val_mrcnn_class_loss: 0.0545 - val_mrcnn_bbox_loss: 0.0176 - val_mrcnn_mask_loss: 0.0572\n",
      "Epoch 66/100\n",
      "100/100 [==============================] - 37s 374ms/step - loss: 0.2842 - rpn_class_loss: 0.0057 - rpn_bbox_loss: 0.0990 - mrcnn_class_loss: 0.0564 - mrcnn_bbox_loss: 0.0304 - mrcnn_mask_loss: 0.0927 - val_loss: 0.2070 - val_rpn_class_loss: 0.0077 - val_rpn_bbox_loss: 0.0818 - val_mrcnn_class_loss: 0.0469 - val_mrcnn_bbox_loss: 0.0168 - val_mrcnn_mask_loss: 0.0538\n",
      "Epoch 67/100\n",
      "100/100 [==============================] - 37s 372ms/step - loss: 0.2493 - rpn_class_loss: 0.0053 - rpn_bbox_loss: 0.0976 - mrcnn_class_loss: 0.0490 - mrcnn_bbox_loss: 0.0264 - mrcnn_mask_loss: 0.0711 - val_loss: 0.2000 - val_rpn_class_loss: 0.0077 - val_rpn_bbox_loss: 0.0814 - val_mrcnn_class_loss: 0.0383 - val_mrcnn_bbox_loss: 0.0178 - val_mrcnn_mask_loss: 0.0548\n",
      "Epoch 68/100\n",
      "100/100 [==============================] - 37s 372ms/step - loss: 0.2717 - rpn_class_loss: 0.0057 - rpn_bbox_loss: 0.1010 - mrcnn_class_loss: 0.0585 - mrcnn_bbox_loss: 0.0307 - mrcnn_mask_loss: 0.0758 - val_loss: 0.1920 - val_rpn_class_loss: 0.0076 - val_rpn_bbox_loss: 0.0820 - val_mrcnn_class_loss: 0.0328 - val_mrcnn_bbox_loss: 0.0152 - val_mrcnn_mask_loss: 0.0543\n",
      "Epoch 69/100\n",
      "100/100 [==============================] - 37s 372ms/step - loss: 0.2730 - rpn_class_loss: 0.0055 - rpn_bbox_loss: 0.0970 - mrcnn_class_loss: 0.0564 - mrcnn_bbox_loss: 0.0306 - mrcnn_mask_loss: 0.0834 - val_loss: 0.2460 - val_rpn_class_loss: 0.0077 - val_rpn_bbox_loss: 0.0770 - val_mrcnn_class_loss: 0.0654 - val_mrcnn_bbox_loss: 0.0238 - val_mrcnn_mask_loss: 0.0720\n",
      "Epoch 70/100\n",
      "100/100 [==============================] - 37s 374ms/step - loss: 0.2573 - rpn_class_loss: 0.0055 - rpn_bbox_loss: 0.0925 - mrcnn_class_loss: 0.0550 - mrcnn_bbox_loss: 0.0291 - mrcnn_mask_loss: 0.0751 - val_loss: 0.2786 - val_rpn_class_loss: 0.0076 - val_rpn_bbox_loss: 0.0785 - val_mrcnn_class_loss: 0.0582 - val_mrcnn_bbox_loss: 0.0184 - val_mrcnn_mask_loss: 0.1159\n",
      "Epoch 71/100\n",
      "100/100 [==============================] - 37s 375ms/step - loss: 0.2605 - rpn_class_loss: 0.0054 - rpn_bbox_loss: 0.0921 - mrcnn_class_loss: 0.0544 - mrcnn_bbox_loss: 0.0306 - mrcnn_mask_loss: 0.0780 - val_loss: 0.1819 - val_rpn_class_loss: 0.0076 - val_rpn_bbox_loss: 0.0805 - val_mrcnn_class_loss: 0.0189 - val_mrcnn_bbox_loss: 0.0174 - val_mrcnn_mask_loss: 0.0575\n",
      "Epoch 72/100\n",
      "100/100 [==============================] - 37s 373ms/step - loss: 0.2462 - rpn_class_loss: 0.0054 - rpn_bbox_loss: 0.0944 - mrcnn_class_loss: 0.0538 - mrcnn_bbox_loss: 0.0285 - mrcnn_mask_loss: 0.0642 - val_loss: 0.1864 - val_rpn_class_loss: 0.0074 - val_rpn_bbox_loss: 0.0797 - val_mrcnn_class_loss: 0.0426 - val_mrcnn_bbox_loss: 0.0135 - val_mrcnn_mask_loss: 0.0431\n",
      "Epoch 73/100\n",
      "100/100 [==============================] - 37s 373ms/step - loss: 0.2487 - rpn_class_loss: 0.0055 - rpn_bbox_loss: 0.0950 - mrcnn_class_loss: 0.0487 - mrcnn_bbox_loss: 0.0261 - mrcnn_mask_loss: 0.0735 - val_loss: 0.1796 - val_rpn_class_loss: 0.0074 - val_rpn_bbox_loss: 0.0685 - val_mrcnn_class_loss: 0.0422 - val_mrcnn_bbox_loss: 0.0136 - val_mrcnn_mask_loss: 0.0479\n",
      "Epoch 74/100\n",
      "100/100 [==============================] - 37s 372ms/step - loss: 0.2434 - rpn_class_loss: 0.0052 - rpn_bbox_loss: 0.0863 - mrcnn_class_loss: 0.0491 - mrcnn_bbox_loss: 0.0267 - mrcnn_mask_loss: 0.0761 - val_loss: 0.2095 - val_rpn_class_loss: 0.0073 - val_rpn_bbox_loss: 0.0750 - val_mrcnn_class_loss: 0.0535 - val_mrcnn_bbox_loss: 0.0223 - val_mrcnn_mask_loss: 0.0514\n",
      "Epoch 75/100\n",
      "100/100 [==============================] - 38s 375ms/step - loss: 0.2555 - rpn_class_loss: 0.0051 - rpn_bbox_loss: 0.0956 - mrcnn_class_loss: 0.0496 - mrcnn_bbox_loss: 0.0289 - mrcnn_mask_loss: 0.0762 - val_loss: 0.2344 - val_rpn_class_loss: 0.0073 - val_rpn_bbox_loss: 0.0845 - val_mrcnn_class_loss: 0.0113 - val_mrcnn_bbox_loss: 0.0202 - val_mrcnn_mask_loss: 0.1111\n",
      "Epoch 76/100\n",
      "100/100 [==============================] - 38s 377ms/step - loss: 0.2449 - rpn_class_loss: 0.0050 - rpn_bbox_loss: 0.0879 - mrcnn_class_loss: 0.0501 - mrcnn_bbox_loss: 0.0293 - mrcnn_mask_loss: 0.0726 - val_loss: 0.2169 - val_rpn_class_loss: 0.0072 - val_rpn_bbox_loss: 0.0693 - val_mrcnn_class_loss: 0.0309 - val_mrcnn_bbox_loss: 0.0171 - val_mrcnn_mask_loss: 0.0924\n",
      "Epoch 77/100\n",
      "100/100 [==============================] - 38s 381ms/step - loss: 0.2470 - rpn_class_loss: 0.0054 - rpn_bbox_loss: 0.0944 - mrcnn_class_loss: 0.0502 - mrcnn_bbox_loss: 0.0284 - mrcnn_mask_loss: 0.0686 - val_loss: 0.1948 - val_rpn_class_loss: 0.0071 - val_rpn_bbox_loss: 0.0727 - val_mrcnn_class_loss: 0.0325 - val_mrcnn_bbox_loss: 0.0142 - val_mrcnn_mask_loss: 0.0683\n",
      "Epoch 78/100\n",
      "100/100 [==============================] - 38s 380ms/step - loss: 0.2385 - rpn_class_loss: 0.0051 - rpn_bbox_loss: 0.0889 - mrcnn_class_loss: 0.0522 - mrcnn_bbox_loss: 0.0296 - mrcnn_mask_loss: 0.0626 - val_loss: 0.2297 - val_rpn_class_loss: 0.0073 - val_rpn_bbox_loss: 0.0665 - val_mrcnn_class_loss: 0.0424 - val_mrcnn_bbox_loss: 0.0172 - val_mrcnn_mask_loss: 0.0963\n",
      "Epoch 79/100\n",
      "100/100 [==============================] - 38s 377ms/step - loss: 0.2430 - rpn_class_loss: 0.0051 - rpn_bbox_loss: 0.0837 - mrcnn_class_loss: 0.0531 - mrcnn_bbox_loss: 0.0273 - mrcnn_mask_loss: 0.0737 - val_loss: 0.2225 - val_rpn_class_loss: 0.0071 - val_rpn_bbox_loss: 0.0752 - val_mrcnn_class_loss: 0.0399 - val_mrcnn_bbox_loss: 0.0150 - val_mrcnn_mask_loss: 0.0852\n",
      "Epoch 80/100\n",
      "100/100 [==============================] - 38s 377ms/step - loss: 0.2494 - rpn_class_loss: 0.0049 - rpn_bbox_loss: 0.0861 - mrcnn_class_loss: 0.0537 - mrcnn_bbox_loss: 0.0279 - mrcnn_mask_loss: 0.0767 - val_loss: 0.1892 - val_rpn_class_loss: 0.0072 - val_rpn_bbox_loss: 0.0787 - val_mrcnn_class_loss: 0.0335 - val_mrcnn_bbox_loss: 0.0176 - val_mrcnn_mask_loss: 0.0522\n",
      "Epoch 81/100\n",
      "100/100 [==============================] - 38s 375ms/step - loss: 0.2400 - rpn_class_loss: 0.0046 - rpn_bbox_loss: 0.0843 - mrcnn_class_loss: 0.0531 - mrcnn_bbox_loss: 0.0295 - mrcnn_mask_loss: 0.0684 - val_loss: 0.2062 - val_rpn_class_loss: 0.0069 - val_rpn_bbox_loss: 0.0794 - val_mrcnn_class_loss: 0.0460 - val_mrcnn_bbox_loss: 0.0141 - val_mrcnn_mask_loss: 0.0598\n",
      "Epoch 82/100\n",
      "100/100 [==============================] - 38s 377ms/step - loss: 0.2294 - rpn_class_loss: 0.0047 - rpn_bbox_loss: 0.0824 - mrcnn_class_loss: 0.0503 - mrcnn_bbox_loss: 0.0262 - mrcnn_mask_loss: 0.0658 - val_loss: 0.1729 - val_rpn_class_loss: 0.0068 - val_rpn_bbox_loss: 0.0726 - val_mrcnn_class_loss: 0.0339 - val_mrcnn_bbox_loss: 0.0143 - val_mrcnn_mask_loss: 0.0453\n",
      "Epoch 83/100\n"
     ]
    },
    {
     "name": "stdout",
     "output_type": "stream",
     "text": [
      "100/100 [==============================] - 38s 377ms/step - loss: 0.2331 - rpn_class_loss: 0.0048 - rpn_bbox_loss: 0.0846 - mrcnn_class_loss: 0.0538 - mrcnn_bbox_loss: 0.0265 - mrcnn_mask_loss: 0.0634 - val_loss: 0.1922 - val_rpn_class_loss: 0.0068 - val_rpn_bbox_loss: 0.0717 - val_mrcnn_class_loss: 0.0316 - val_mrcnn_bbox_loss: 0.0267 - val_mrcnn_mask_loss: 0.0553\n",
      "Epoch 84/100\n",
      "100/100 [==============================] - 38s 377ms/step - loss: 0.2178 - rpn_class_loss: 0.0049 - rpn_bbox_loss: 0.0769 - mrcnn_class_loss: 0.0488 - mrcnn_bbox_loss: 0.0248 - mrcnn_mask_loss: 0.0624 - val_loss: 0.1758 - val_rpn_class_loss: 0.0065 - val_rpn_bbox_loss: 0.0681 - val_mrcnn_class_loss: 0.0352 - val_mrcnn_bbox_loss: 0.0229 - val_mrcnn_mask_loss: 0.0431\n",
      "Epoch 85/100\n",
      "100/100 [==============================] - 37s 375ms/step - loss: 0.2375 - rpn_class_loss: 0.0048 - rpn_bbox_loss: 0.0847 - mrcnn_class_loss: 0.0485 - mrcnn_bbox_loss: 0.0269 - mrcnn_mask_loss: 0.0726 - val_loss: 0.2779 - val_rpn_class_loss: 0.0066 - val_rpn_bbox_loss: 0.0646 - val_mrcnn_class_loss: 0.0450 - val_mrcnn_bbox_loss: 0.0137 - val_mrcnn_mask_loss: 0.1478\n",
      "Epoch 86/100\n",
      "100/100 [==============================] - 38s 375ms/step - loss: 0.2372 - rpn_class_loss: 0.0048 - rpn_bbox_loss: 0.0818 - mrcnn_class_loss: 0.0580 - mrcnn_bbox_loss: 0.0271 - mrcnn_mask_loss: 0.0655 - val_loss: 0.2086 - val_rpn_class_loss: 0.0069 - val_rpn_bbox_loss: 0.0751 - val_mrcnn_class_loss: 0.0294 - val_mrcnn_bbox_loss: 0.0170 - val_mrcnn_mask_loss: 0.0801\n",
      "Epoch 87/100\n",
      "100/100 [==============================] - 38s 382ms/step - loss: 0.2342 - rpn_class_loss: 0.0049 - rpn_bbox_loss: 0.0781 - mrcnn_class_loss: 0.0535 - mrcnn_bbox_loss: 0.0266 - mrcnn_mask_loss: 0.0712 - val_loss: 0.1958 - val_rpn_class_loss: 0.0064 - val_rpn_bbox_loss: 0.0655 - val_mrcnn_class_loss: 0.0659 - val_mrcnn_bbox_loss: 0.0145 - val_mrcnn_mask_loss: 0.0436\n",
      "Epoch 88/100\n",
      "100/100 [==============================] - 38s 375ms/step - loss: 0.2278 - rpn_class_loss: 0.0047 - rpn_bbox_loss: 0.0792 - mrcnn_class_loss: 0.0478 - mrcnn_bbox_loss: 0.0241 - mrcnn_mask_loss: 0.0719 - val_loss: 0.2037 - val_rpn_class_loss: 0.0064 - val_rpn_bbox_loss: 0.0638 - val_mrcnn_class_loss: 0.0453 - val_mrcnn_bbox_loss: 0.0239 - val_mrcnn_mask_loss: 0.0643\n",
      "Epoch 89/100\n",
      "100/100 [==============================] - 38s 377ms/step - loss: 0.2228 - rpn_class_loss: 0.0048 - rpn_bbox_loss: 0.0776 - mrcnn_class_loss: 0.0522 - mrcnn_bbox_loss: 0.0252 - mrcnn_mask_loss: 0.0630 - val_loss: 0.1607 - val_rpn_class_loss: 0.0064 - val_rpn_bbox_loss: 0.0650 - val_mrcnn_class_loss: 0.0283 - val_mrcnn_bbox_loss: 0.0121 - val_mrcnn_mask_loss: 0.0489\n",
      "Epoch 90/100\n",
      "100/100 [==============================] - 38s 380ms/step - loss: 0.2278 - rpn_class_loss: 0.0043 - rpn_bbox_loss: 0.0748 - mrcnn_class_loss: 0.0549 - mrcnn_bbox_loss: 0.0273 - mrcnn_mask_loss: 0.0665 - val_loss: 0.1799 - val_rpn_class_loss: 0.0063 - val_rpn_bbox_loss: 0.0586 - val_mrcnn_class_loss: 0.0520 - val_mrcnn_bbox_loss: 0.0202 - val_mrcnn_mask_loss: 0.0427\n",
      "Epoch 91/100\n",
      "100/100 [==============================] - 38s 379ms/step - loss: 0.2267 - rpn_class_loss: 0.0047 - rpn_bbox_loss: 0.0778 - mrcnn_class_loss: 0.0523 - mrcnn_bbox_loss: 0.0265 - mrcnn_mask_loss: 0.0654 - val_loss: 0.2214 - val_rpn_class_loss: 0.0062 - val_rpn_bbox_loss: 0.0667 - val_mrcnn_class_loss: 0.0571 - val_mrcnn_bbox_loss: 0.0130 - val_mrcnn_mask_loss: 0.0784\n",
      "Epoch 92/100\n",
      "100/100 [==============================] - 38s 375ms/step - loss: 0.2151 - rpn_class_loss: 0.0047 - rpn_bbox_loss: 0.0749 - mrcnn_class_loss: 0.0522 - mrcnn_bbox_loss: 0.0250 - mrcnn_mask_loss: 0.0583 - val_loss: 0.1774 - val_rpn_class_loss: 0.0058 - val_rpn_bbox_loss: 0.0794 - val_mrcnn_class_loss: 0.0396 - val_mrcnn_bbox_loss: 0.0120 - val_mrcnn_mask_loss: 0.0407\n",
      "Epoch 93/100\n",
      "100/100 [==============================] - 38s 379ms/step - loss: 0.2286 - rpn_class_loss: 0.0046 - rpn_bbox_loss: 0.0769 - mrcnn_class_loss: 0.0511 - mrcnn_bbox_loss: 0.0267 - mrcnn_mask_loss: 0.0692 - val_loss: 0.1706 - val_rpn_class_loss: 0.0063 - val_rpn_bbox_loss: 0.0615 - val_mrcnn_class_loss: 0.0313 - val_mrcnn_bbox_loss: 0.0186 - val_mrcnn_mask_loss: 0.0531\n",
      "Epoch 94/100\n",
      "100/100 [==============================] - 38s 379ms/step - loss: 0.2369 - rpn_class_loss: 0.0044 - rpn_bbox_loss: 0.0834 - mrcnn_class_loss: 0.0511 - mrcnn_bbox_loss: 0.0265 - mrcnn_mask_loss: 0.0714 - val_loss: 0.1548 - val_rpn_class_loss: 0.0061 - val_rpn_bbox_loss: 0.0592 - val_mrcnn_class_loss: 0.0261 - val_mrcnn_bbox_loss: 0.0187 - val_mrcnn_mask_loss: 0.0447\n",
      "Epoch 95/100\n",
      "100/100 [==============================] - 38s 376ms/step - loss: 0.2215 - rpn_class_loss: 0.0044 - rpn_bbox_loss: 0.0731 - mrcnn_class_loss: 0.0534 - mrcnn_bbox_loss: 0.0263 - mrcnn_mask_loss: 0.0644 - val_loss: 0.1828 - val_rpn_class_loss: 0.0062 - val_rpn_bbox_loss: 0.0622 - val_mrcnn_class_loss: 0.0674 - val_mrcnn_bbox_loss: 0.0142 - val_mrcnn_mask_loss: 0.0328\n",
      "Epoch 96/100\n",
      "100/100 [==============================] - 38s 380ms/step - loss: 0.2225 - rpn_class_loss: 0.0046 - rpn_bbox_loss: 0.0779 - mrcnn_class_loss: 0.0509 - mrcnn_bbox_loss: 0.0257 - mrcnn_mask_loss: 0.0633 - val_loss: 0.1664 - val_rpn_class_loss: 0.0060 - val_rpn_bbox_loss: 0.0630 - val_mrcnn_class_loss: 0.0228 - val_mrcnn_bbox_loss: 0.0190 - val_mrcnn_mask_loss: 0.0555\n",
      "Epoch 97/100\n",
      "100/100 [==============================] - 38s 376ms/step - loss: 0.2145 - rpn_class_loss: 0.0042 - rpn_bbox_loss: 0.0730 - mrcnn_class_loss: 0.0467 - mrcnn_bbox_loss: 0.0256 - mrcnn_mask_loss: 0.0650 - val_loss: 0.1978 - val_rpn_class_loss: 0.0060 - val_rpn_bbox_loss: 0.0601 - val_mrcnn_class_loss: 0.0484 - val_mrcnn_bbox_loss: 0.0171 - val_mrcnn_mask_loss: 0.0663\n",
      "Epoch 98/100\n",
      "100/100 [==============================] - 38s 377ms/step - loss: 0.2236 - rpn_class_loss: 0.0043 - rpn_bbox_loss: 0.0748 - mrcnn_class_loss: 0.0520 - mrcnn_bbox_loss: 0.0244 - mrcnn_mask_loss: 0.0682 - val_loss: 0.2151 - val_rpn_class_loss: 0.0060 - val_rpn_bbox_loss: 0.0669 - val_mrcnn_class_loss: 0.0249 - val_mrcnn_bbox_loss: 0.0178 - val_mrcnn_mask_loss: 0.0994\n",
      "Epoch 99/100\n",
      "100/100 [==============================] - 38s 376ms/step - loss: 0.2203 - rpn_class_loss: 0.0043 - rpn_bbox_loss: 0.0670 - mrcnn_class_loss: 0.0524 - mrcnn_bbox_loss: 0.0262 - mrcnn_mask_loss: 0.0703 - val_loss: 0.1355 - val_rpn_class_loss: 0.0059 - val_rpn_bbox_loss: 0.0605 - val_mrcnn_class_loss: 0.0170 - val_mrcnn_bbox_loss: 0.0163 - val_mrcnn_mask_loss: 0.0358\n",
      "Epoch 100/100\n",
      "100/100 [==============================] - 37s 375ms/step - loss: 0.2089 - rpn_class_loss: 0.0041 - rpn_bbox_loss: 0.0702 - mrcnn_class_loss: 0.0493 - mrcnn_bbox_loss: 0.0244 - mrcnn_mask_loss: 0.0608 - val_loss: 0.1802 - val_rpn_class_loss: 0.0056 - val_rpn_bbox_loss: 0.0610 - val_mrcnn_class_loss: 0.0325 - val_mrcnn_bbox_loss: 0.0165 - val_mrcnn_mask_loss: 0.0647\n"
     ]
    }
   ],
   "source": [
    "# Fine tune all layers\n",
    "# Passing layers=\"all\" trains all layers. You can also \n",
    "# pass a regular expression to select which layers to\n",
    "# train by name pattern.\n",
    "model.train(dataset_train, dataset_val, \n",
    "            learning_rate=config.LEARNING_RATE / 10,\n",
    "            epochs=100, \n",
    "            layers=\"all\")"
   ]
  },
  {
   "cell_type": "code",
   "execution_count": 11,
   "metadata": {
    "collapsed": true
   },
   "outputs": [],
   "source": [
    "# Save weights\n",
    "# Typically not needed because callbacks save after every epoch\n",
    "# Uncomment to save manually\n",
    "# model_path = os.path.join(MODEL_DIR, \"mask_rcnn_shapes.h5\")\n",
    "# model.keras_model.save_weights(model_path)"
   ]
  },
  {
   "cell_type": "markdown",
   "metadata": {},
   "source": [
    "### Step 5: Detection"
   ]
  },
  {
   "cell_type": "code",
   "execution_count": 12,
   "metadata": {},
   "outputs": [
    {
     "name": "stdout",
     "output_type": "stream",
     "text": [
      "Loading weights from  D:\\workspace\\shuwen\\DL_dev\\Mask_RCNN\\logs\\shapes20171129T1523\\mask_rcnn_shapes_0100.h5\n"
     ]
    }
   ],
   "source": [
    "class InferenceConfig(ShapesConfig):\n",
    "    GPU_COUNT = 1\n",
    "    IMAGES_PER_GPU = 1\n",
    "\n",
    "inference_config = InferenceConfig()\n",
    "\n",
    "# Recreate the model in inference mode\n",
    "model = modellib.MaskRCNN(mode=\"inference\", \n",
    "                          config=inference_config,\n",
    "                          model_dir=MODEL_DIR)\n",
    "\n",
    "# Get path to saved weights\n",
    "# Either set a specific path or find last trained weights\n",
    "# model_path = os.path.join(ROOT_DIR, \".h5 file name here\")\n",
    "model_path = model.find_last()[1]\n",
    "\n",
    "# Load trained weights (fill in path to trained weights here)\n",
    "assert model_path != \"\", \"Provide path to trained weights\"\n",
    "print(\"Loading weights from \", model_path)\n",
    "model.load_weights(model_path, by_name=True)"
   ]
  },
  {
   "cell_type": "code",
   "execution_count": 13,
   "metadata": {},
   "outputs": [
    {
     "name": "stdout",
     "output_type": "stream",
     "text": [
      "original_image           shape: (128, 128, 3)         min:   14.00000  max:  232.00000\n",
      "image_meta               shape: (12,)                 min:    0.00000  max:  497.00000\n",
      "gt_bbox                  shape: (3, 4)                min:    2.00000  max:  128.00000\n",
      "gt_mask                  shape: (128, 128, 3)         min:    0.00000  max:    1.00000\n"
     ]
    },
    {
     "data": {
      "image/png": "[encoded data removed]",
      "text/plain": [
       "<matplotlib.figure.Figure at 0x15286635ac8>"
      ]
     },
     "metadata": {},
     "output_type": "display_data"
    }
   ],
   "source": [
    "# Test on a random image\n",
    "image_id = random.choice(dataset_val.image_ids)\n",
    "original_image, image_meta, gt_class_id, gt_bbox, gt_mask =\\\n",
    "    modellib.load_image_gt(dataset_val, inference_config, \n",
    "                           image_id, use_mini_mask=False)\n",
    "\n",
    "log(\"original_image\", original_image)\n",
    "log(\"image_meta\", image_meta)\n",
    "log(\"gt_bbox\", gt_bbox)\n",
    "log(\"gt_mask\", gt_mask)\n",
    "\n",
    "visualize.display_instances(original_image, gt_bbox, gt_mask, gt_class_id, \n",
    "                            dataset_train.class_names, figsize=(8, 8))"
   ]
  },
  {
   "cell_type": "code",
   "execution_count": 14,
   "metadata": {},
   "outputs": [
    {
     "name": "stdout",
     "output_type": "stream",
     "text": [
      "Processing 1 images\n",
      "image                    shape: (128, 128, 3)         min:   14.00000  max:  232.00000\n",
      "molded_images            shape: (1, 128, 128, 3)      min: -109.70000  max:  114.10000\n",
      "image_metas              shape: (1, 12)               min:    0.00000  max:  128.00000\n"
     ]
    },
    {
     "data": {
      "image/png": "[encoded data removed]",
      "text/plain": [
       "<matplotlib.figure.Figure at 0x1528bc796a0>"
      ]
     },
     "metadata": {},
     "output_type": "display_data"
    }
   ],
   "source": [
    "results = model.detect([original_image], verbose=1)\n",
    "\n",
    "r = results[0]\n",
    "visualize.display_instances(original_image, r['rois'], r['masks'], r['class_ids'], \n",
    "                            dataset_val.class_names, r['scores'], ax=get_ax())"
   ]
  },
  {
   "cell_type": "markdown",
   "metadata": {},
   "source": [
    "### Step 6: Evaluation"
   ]
  },
  {
   "cell_type": "code",
   "execution_count": 15,
   "metadata": {},
   "outputs": [
    {
     "name": "stdout",
     "output_type": "stream",
     "text": [
      "mAP:  1.0\n"
     ]
    }
   ],
   "source": [
    "# Compute VOC-Style mAP @ IoU=0.5\n",
    "# Running on 10 images. Increase for better accuracy.\n",
    "image_ids = np.random.choice(dataset_val.image_ids, 10)\n",
    "APs = []\n",
    "for image_id in image_ids:\n",
    "    # Load image and ground truth data\n",
    "    image, image_meta, gt_class_id, gt_bbox, gt_mask =\\\n",
    "        modellib.load_image_gt(dataset_val, inference_config,\n",
    "                               image_id, use_mini_mask=False)\n",
    "    molded_images = np.expand_dims(modellib.mold_image(image, inference_config), 0)\n",
    "    # Run object detection\n",
    "    results = model.detect([image], verbose=0)\n",
    "    r = results[0]\n",
    "    # Compute AP\n",
    "    AP, precisions, recalls, overlaps =\\\n",
    "        utils.compute_ap(gt_bbox, gt_class_id,\n",
    "                         r[\"rois\"], r[\"class_ids\"], r[\"scores\"])\n",
    "    APs.append(AP)\n",
    "    \n",
    "print(\"mAP: \", np.mean(APs))"
   ]
  },
  {
   "cell_type": "markdown",
   "metadata": {},
   "source": [
    "## Part 2: Apply Mask-RCNN to inspect defects"
   ]
  },
  {
   "cell_type": "code",
   "execution_count": null,
   "metadata": {
    "collapsed": true
   },
   "outputs": [],
   "source": []
  }
 ],
 "metadata": {
  "anaconda-cloud": {},
  "kernelspec": {
   "display_name": "Python 3",
   "language": "python",
   "name": "python3"
  },
  "language_info": {
   "codemirror_mode": {
    "name": "ipython",
    "version": 3
   },
   "file_extension": ".py",
   "mimetype": "text/x-python",
   "name": "python",
   "nbconvert_exporter": "python",
   "pygments_lexer": "ipython3",
   "version": "3.6.1"
  }
 },
 "nbformat": 4,
 "nbformat_minor": 1
}
